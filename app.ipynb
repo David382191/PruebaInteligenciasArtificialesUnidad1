{
 "cells": [
  {
   "cell_type": "markdown",
   "id": "f7acc799",
   "metadata": {},
   "source": [
    "Aquí vamos a consumir el archivo CSV."
   ]
  },
  {
   "cell_type": "code",
   "execution_count": null,
   "metadata": {},
   "outputs": [
    {
     "name": "stdout",
     "output_type": "stream",
     "text": [
      "     NUMERO_RUC                                 RAZON_SOCIAL  \\\n",
      "0  190301850001                                   FLORIPAMBA   \n",
      "1  190159892001  TEODORO MONTESINOS Y OTRO SOCIEDAD DE HECHO   \n",
      "2  190167062001       COMERCIAL HERRERA JARAMILLO CIA. LTDA.   \n",
      "3  190167100001                 RAFAEL CORONEL S. CIA. LTDA.   \n",
      "4  190004163001             DISTRIBUIDORA BARRERA CIA. LTDA.   \n",
      "\n",
      "  CODIGO_JURISDICCION ESTADO_CONTRIBUYENTE CLASE_CONTRIBUYENTE  \\\n",
      "0               AZUAY               PASIVO                 GEN   \n",
      "1               AZUAY               PASIVO                 GEN   \n",
      "2               AZUAY               PASIVO                 GEN   \n",
      "3               AZUAY               PASIVO                 GEN   \n",
      "4               AZUAY               PASIVO                 GEN   \n",
      "\n",
      "  FECHA_INICIO_ACTIVIDADES  FECHA_ACTUALIZACION FECHA_SUSPENSION_DEFINITIVA  \\\n",
      "0      1999-12-08 00:00:00  2005-09-08 17:47:33         2010-11-17 00:00:00   \n",
      "1      1998-04-23 00:00:00  2004-03-24 18:57:21         2001-08-03 00:00:00   \n",
      "2      1999-05-11 00:00:00  2002-08-28 00:00:00         2015-09-04 00:00:00   \n",
      "3      1998-10-08 00:00:00                  NaN         1998-11-17 00:00:00   \n",
      "4      1970-04-06 00:00:00  2012-12-04 00:00:00         2016-09-20 00:00:00   \n",
      "\n",
      "  FECHA_REINICIO_ACTIVIDADES OBLIGADO  ... NUMERO_ESTABLECIMIENTO  \\\n",
      "0                        NaN        S  ...                      1   \n",
      "1                        NaN        S  ...                      1   \n",
      "2                        NaN        S  ...                      1   \n",
      "3                        NaN        S  ...                      1   \n",
      "4                        NaN        S  ...                      1   \n",
      "\n",
      "   NOMBRE_FANTASIA_COMERCIAL ESTADO_ESTABLECIMIENTO DESCRIPCION_PROVINCIA_EST  \\\n",
      "0                 FLORIPAMBA                    CER                     AZUAY   \n",
      "1                        NaN                    CER                     AZUAY   \n",
      "2                        NaN                    CER                     AZUAY   \n",
      "3                        NaN                    CER                     AZUAY   \n",
      "4      DISTRIBUIDORA BARRERA                    CER                     AZUAY   \n",
      "\n",
      "  DESCRIPCION_CANTON_EST DESCRIPCION_PARROQUIA_EST CODIGO_CIIU  \\\n",
      "0                 CUENCA                     SUCRE     A011903   \n",
      "1                 CUENCA                 EL VECINO     G463011   \n",
      "2                 CUENCA                BELLAVISTA     G474114   \n",
      "3                 CUENCA                BELLAVISTA     G465993   \n",
      "4                 CUENCA               HUAYNACAPAC     G469000   \n",
      "\n",
      "                                 ACTIVIDAD_ECONOMICA AGENTE_RETENCION ESPECIAL  \n",
      "0  CULTIVO DE FLORES, INCLUIDA LA PRODUCCIÃN DE ...                N        N  \n",
      "1           VENTA AL POR MAYOR DE BANANO Y PLÃTANO.                N        N  \n",
      "2  VENTA AL POR MENOR DE MAQUINARIA Y APARATOS EL...                N        N  \n",
      "3  VENTA AL POR MAYOR DE EQUIPO ELÃCTRICO COMO: ...                N        N  \n",
      "4  VENTA AL POR MAYOR DE DIVERSOS PRODUCTOS SIN E...                N        N  \n",
      "\n",
      "[5 rows x 21 columns]\n",
      "Index(['NUMERO_RUC', 'RAZON_SOCIAL', 'CODIGO_JURISDICCION',\n",
      "       'ESTADO_CONTRIBUYENTE', 'CLASE_CONTRIBUYENTE',\n",
      "       'FECHA_INICIO_ACTIVIDADES', 'FECHA_ACTUALIZACION',\n",
      "       'FECHA_SUSPENSION_DEFINITIVA', 'FECHA_REINICIO_ACTIVIDADES', 'OBLIGADO',\n",
      "       'TIPO_CONTRIBUYENTE', 'NUMERO_ESTABLECIMIENTO',\n",
      "       'NOMBRE_FANTASIA_COMERCIAL', 'ESTADO_ESTABLECIMIENTO',\n",
      "       'DESCRIPCION_PROVINCIA_EST', 'DESCRIPCION_CANTON_EST',\n",
      "       'DESCRIPCION_PARROQUIA_EST', 'CODIGO_CIIU', 'ACTIVIDAD_ECONOMICA',\n",
      "       'AGENTE_RETENCION', 'ESPECIAL'],\n",
      "      dtype='object')\n"
     ]
    }
   ],
   "source": [
    "import pandas as pd\n",
    "\n",
    "# Leer el CSV usando | como separador\n",
    "\n",
    "df = pd.read_csv(\n",
    "    \"SRI_RUC_Azuay.csv\",   #Bien, como csv es my grande no se podrá subir ni el el GITHUB\n",
    "    sep='|',               #Pero el envio su link aparte para que pueda descargarlo.\n",
    "    encoding='latin-1',    # Para evitar problemas de caracteres\n",
    "    nrows=1000             # Prueba con 1000 filas primero\n",
    ")\n",
    "\n",
    "# Verificar que se separaron las columnas\n",
    "\n",
    "print(df.head())\n",
    "print(df.columns)\n",
    "\n",
    "#Aquí en link en Drive donde estará el CSV\n",
    "#LINK:https://drive.google.com/file/d/1H3eU3ULaa4Jsv_0tOIqqqfMJvdjrkNnM/view?usp=drive_link"
   ]
  },
  {
   "cell_type": "code",
   "execution_count": 38,
   "id": "8f808969",
   "metadata": {},
   "outputs": [
    {
     "data": {
      "text/html": [
       "<div>\n",
       "<style scoped>\n",
       "    .dataframe tbody tr th:only-of-type {\n",
       "        vertical-align: middle;\n",
       "    }\n",
       "\n",
       "    .dataframe tbody tr th {\n",
       "        vertical-align: top;\n",
       "    }\n",
       "\n",
       "    .dataframe thead th {\n",
       "        text-align: right;\n",
       "    }\n",
       "</style>\n",
       "<table border=\"1\" class=\"dataframe\">\n",
       "  <thead>\n",
       "    <tr style=\"text-align: right;\">\n",
       "      <th></th>\n",
       "      <th>numero_ruc</th>\n",
       "      <th>razon_social</th>\n",
       "      <th>codigo_jurisdiccion</th>\n",
       "      <th>estado_contribuyente</th>\n",
       "      <th>clase_contribuyente</th>\n",
       "      <th>fecha_inicio_actividades</th>\n",
       "      <th>fecha_actualizacion</th>\n",
       "      <th>fecha_suspension_definitiva</th>\n",
       "      <th>fecha_reinicio_actividades</th>\n",
       "      <th>obligado</th>\n",
       "      <th>...</th>\n",
       "      <th>nombre_fantasia_comercial</th>\n",
       "      <th>estado_establecimiento</th>\n",
       "      <th>descripcion_provincia_est</th>\n",
       "      <th>descripcion_canton_est</th>\n",
       "      <th>descripcion_parroquia_est</th>\n",
       "      <th>codigo_ciiu</th>\n",
       "      <th>actividad_economica</th>\n",
       "      <th>agente_retencion</th>\n",
       "      <th>especial</th>\n",
       "      <th>mes</th>\n",
       "    </tr>\n",
       "  </thead>\n",
       "  <tbody>\n",
       "    <tr>\n",
       "      <th>0</th>\n",
       "      <td>190301850001</td>\n",
       "      <td>FLORIPAMBA</td>\n",
       "      <td>AZUAY</td>\n",
       "      <td>PASIVO</td>\n",
       "      <td>GEN</td>\n",
       "      <td>1999-12-08</td>\n",
       "      <td>2005-09-08 17:47:33</td>\n",
       "      <td>2010-11-17</td>\n",
       "      <td>NaT</td>\n",
       "      <td>S</td>\n",
       "      <td>...</td>\n",
       "      <td>FLORIPAMBA</td>\n",
       "      <td>CER</td>\n",
       "      <td>AZUAY</td>\n",
       "      <td>CUENCA</td>\n",
       "      <td>SUCRE</td>\n",
       "      <td>A011903</td>\n",
       "      <td>CULTIVO DE FLORES, INCLUIDA LA PRODUCCIÃN DE ...</td>\n",
       "      <td>N</td>\n",
       "      <td>N</td>\n",
       "      <td>1999-12</td>\n",
       "    </tr>\n",
       "    <tr>\n",
       "      <th>1</th>\n",
       "      <td>190159892001</td>\n",
       "      <td>TEODORO MONTESINOS Y OTRO SOCIEDAD DE HECHO</td>\n",
       "      <td>AZUAY</td>\n",
       "      <td>PASIVO</td>\n",
       "      <td>GEN</td>\n",
       "      <td>1998-04-23</td>\n",
       "      <td>2004-03-24 18:57:21</td>\n",
       "      <td>2001-08-03</td>\n",
       "      <td>NaT</td>\n",
       "      <td>S</td>\n",
       "      <td>...</td>\n",
       "      <td>NaN</td>\n",
       "      <td>CER</td>\n",
       "      <td>AZUAY</td>\n",
       "      <td>CUENCA</td>\n",
       "      <td>EL VECINO</td>\n",
       "      <td>G463011</td>\n",
       "      <td>VENTA AL POR MAYOR DE BANANO Y PLÃTANO.</td>\n",
       "      <td>N</td>\n",
       "      <td>N</td>\n",
       "      <td>1998-04</td>\n",
       "    </tr>\n",
       "    <tr>\n",
       "      <th>2</th>\n",
       "      <td>190167062001</td>\n",
       "      <td>COMERCIAL HERRERA JARAMILLO CIA. LTDA.</td>\n",
       "      <td>AZUAY</td>\n",
       "      <td>PASIVO</td>\n",
       "      <td>GEN</td>\n",
       "      <td>1999-05-11</td>\n",
       "      <td>2002-08-28 00:00:00</td>\n",
       "      <td>2015-09-04</td>\n",
       "      <td>NaT</td>\n",
       "      <td>S</td>\n",
       "      <td>...</td>\n",
       "      <td>NaN</td>\n",
       "      <td>CER</td>\n",
       "      <td>AZUAY</td>\n",
       "      <td>CUENCA</td>\n",
       "      <td>BELLAVISTA</td>\n",
       "      <td>G474114</td>\n",
       "      <td>VENTA AL POR MENOR DE MAQUINARIA Y APARATOS EL...</td>\n",
       "      <td>N</td>\n",
       "      <td>N</td>\n",
       "      <td>1999-05</td>\n",
       "    </tr>\n",
       "    <tr>\n",
       "      <th>3</th>\n",
       "      <td>190167100001</td>\n",
       "      <td>RAFAEL CORONEL S. CIA. LTDA.</td>\n",
       "      <td>AZUAY</td>\n",
       "      <td>PASIVO</td>\n",
       "      <td>GEN</td>\n",
       "      <td>1998-10-08</td>\n",
       "      <td>NaT</td>\n",
       "      <td>1998-11-17</td>\n",
       "      <td>NaT</td>\n",
       "      <td>S</td>\n",
       "      <td>...</td>\n",
       "      <td>NaN</td>\n",
       "      <td>CER</td>\n",
       "      <td>AZUAY</td>\n",
       "      <td>CUENCA</td>\n",
       "      <td>BELLAVISTA</td>\n",
       "      <td>G465993</td>\n",
       "      <td>VENTA AL POR MAYOR DE EQUIPO ELÃCTRICO COMO: ...</td>\n",
       "      <td>N</td>\n",
       "      <td>N</td>\n",
       "      <td>1998-10</td>\n",
       "    </tr>\n",
       "    <tr>\n",
       "      <th>4</th>\n",
       "      <td>190004163001</td>\n",
       "      <td>DISTRIBUIDORA BARRERA CIA. LTDA.</td>\n",
       "      <td>AZUAY</td>\n",
       "      <td>PASIVO</td>\n",
       "      <td>GEN</td>\n",
       "      <td>1970-04-06</td>\n",
       "      <td>2012-12-04 00:00:00</td>\n",
       "      <td>2016-09-20</td>\n",
       "      <td>NaT</td>\n",
       "      <td>S</td>\n",
       "      <td>...</td>\n",
       "      <td>DISTRIBUIDORA BARRERA</td>\n",
       "      <td>CER</td>\n",
       "      <td>AZUAY</td>\n",
       "      <td>CUENCA</td>\n",
       "      <td>HUAYNACAPAC</td>\n",
       "      <td>G469000</td>\n",
       "      <td>VENTA AL POR MAYOR DE DIVERSOS PRODUCTOS SIN E...</td>\n",
       "      <td>N</td>\n",
       "      <td>N</td>\n",
       "      <td>1970-04</td>\n",
       "    </tr>\n",
       "  </tbody>\n",
       "</table>\n",
       "<p>5 rows × 22 columns</p>\n",
       "</div>"
      ],
      "text/plain": [
       "     numero_ruc                                 razon_social  \\\n",
       "0  190301850001                                   FLORIPAMBA   \n",
       "1  190159892001  TEODORO MONTESINOS Y OTRO SOCIEDAD DE HECHO   \n",
       "2  190167062001       COMERCIAL HERRERA JARAMILLO CIA. LTDA.   \n",
       "3  190167100001                 RAFAEL CORONEL S. CIA. LTDA.   \n",
       "4  190004163001             DISTRIBUIDORA BARRERA CIA. LTDA.   \n",
       "\n",
       "  codigo_jurisdiccion estado_contribuyente clase_contribuyente  \\\n",
       "0               AZUAY               PASIVO                 GEN   \n",
       "1               AZUAY               PASIVO                 GEN   \n",
       "2               AZUAY               PASIVO                 GEN   \n",
       "3               AZUAY               PASIVO                 GEN   \n",
       "4               AZUAY               PASIVO                 GEN   \n",
       "\n",
       "  fecha_inicio_actividades fecha_actualizacion fecha_suspension_definitiva  \\\n",
       "0               1999-12-08 2005-09-08 17:47:33                  2010-11-17   \n",
       "1               1998-04-23 2004-03-24 18:57:21                  2001-08-03   \n",
       "2               1999-05-11 2002-08-28 00:00:00                  2015-09-04   \n",
       "3               1998-10-08                 NaT                  1998-11-17   \n",
       "4               1970-04-06 2012-12-04 00:00:00                  2016-09-20   \n",
       "\n",
       "  fecha_reinicio_actividades obligado  ... nombre_fantasia_comercial  \\\n",
       "0                        NaT        S  ...                FLORIPAMBA   \n",
       "1                        NaT        S  ...                       NaN   \n",
       "2                        NaT        S  ...                       NaN   \n",
       "3                        NaT        S  ...                       NaN   \n",
       "4                        NaT        S  ...     DISTRIBUIDORA BARRERA   \n",
       "\n",
       "   estado_establecimiento descripcion_provincia_est descripcion_canton_est  \\\n",
       "0                     CER                     AZUAY                 CUENCA   \n",
       "1                     CER                     AZUAY                 CUENCA   \n",
       "2                     CER                     AZUAY                 CUENCA   \n",
       "3                     CER                     AZUAY                 CUENCA   \n",
       "4                     CER                     AZUAY                 CUENCA   \n",
       "\n",
       "  descripcion_parroquia_est codigo_ciiu  \\\n",
       "0                     SUCRE     A011903   \n",
       "1                 EL VECINO     G463011   \n",
       "2                BELLAVISTA     G474114   \n",
       "3                BELLAVISTA     G465993   \n",
       "4               HUAYNACAPAC     G469000   \n",
       "\n",
       "                                 actividad_economica agente_retencion  \\\n",
       "0  CULTIVO DE FLORES, INCLUIDA LA PRODUCCIÃN DE ...                N   \n",
       "1           VENTA AL POR MAYOR DE BANANO Y PLÃTANO.                N   \n",
       "2  VENTA AL POR MENOR DE MAQUINARIA Y APARATOS EL...                N   \n",
       "3  VENTA AL POR MAYOR DE EQUIPO ELÃCTRICO COMO: ...                N   \n",
       "4  VENTA AL POR MAYOR DE DIVERSOS PRODUCTOS SIN E...                N   \n",
       "\n",
       "  especial      mes  \n",
       "0        N  1999-12  \n",
       "1        N  1998-04  \n",
       "2        N  1999-05  \n",
       "3        N  1998-10  \n",
       "4        N  1970-04  \n",
       "\n",
       "[5 rows x 22 columns]"
      ]
     },
     "execution_count": 38,
     "metadata": {},
     "output_type": "execute_result"
    }
   ],
   "source": [
    "df.head()"
   ]
  },
  {
   "cell_type": "code",
   "execution_count": 2,
   "id": "fc8c9c49",
   "metadata": {},
   "outputs": [
    {
     "ename": "NameError",
     "evalue": "name 'df' is not defined",
     "output_type": "error",
     "traceback": [
      "\u001b[1;31m---------------------------------------------------------------------------\u001b[0m",
      "\u001b[1;31mNameError\u001b[0m                                 Traceback (most recent call last)",
      "Cell \u001b[1;32mIn[2], line 2\u001b[0m\n\u001b[0;32m      1\u001b[0m \u001b[38;5;66;03m#Normalizar columnas\u001b[39;00m\n\u001b[1;32m----> 2\u001b[0m df\u001b[38;5;241m.\u001b[39mcolumns \u001b[38;5;241m=\u001b[39m df\u001b[38;5;241m.\u001b[39mcolumns\u001b[38;5;241m.\u001b[39mstr\u001b[38;5;241m.\u001b[39mstrip()\u001b[38;5;241m.\u001b[39mstr\u001b[38;5;241m.\u001b[39mlower()\u001b[38;5;241m.\u001b[39mstr\u001b[38;5;241m.\u001b[39mreplace(\u001b[38;5;124m'\u001b[39m\u001b[38;5;124m \u001b[39m\u001b[38;5;124m'\u001b[39m, \u001b[38;5;124m'\u001b[39m\u001b[38;5;124m_\u001b[39m\u001b[38;5;124m'\u001b[39m)\n\u001b[0;32m      4\u001b[0m \u001b[38;5;66;03m# Verificar que se separaron las columnas\u001b[39;00m\n\u001b[0;32m      5\u001b[0m \u001b[38;5;66;03m#df.head()\u001b[39;00m\n\u001b[0;32m      6\u001b[0m \u001b[38;5;28mprint\u001b[39m(df\u001b[38;5;241m.\u001b[39mhead())\n",
      "\u001b[1;31mNameError\u001b[0m: name 'df' is not defined"
     ]
    }
   ],
   "source": [
    "#Normalizar columnas\n",
    "df.columns = df.columns.str.strip().str.lower().str.replace(' ', '_')\n",
    "\n",
    "# Verificar que se separaron las columnas\n",
    "#df.head()\n",
    "print(df.head())\n",
    "print(df.columns)"
   ]
  },
  {
   "cell_type": "code",
   "execution_count": null,
   "id": "888f823c",
   "metadata": {},
   "outputs": [
    {
     "name": "stdout",
     "output_type": "stream",
     "text": [
      "     numero_ruc                                 razon_social  \\\n",
      "0  190301850001                                   FLORIPAMBA   \n",
      "1  190159892001  TEODORO MONTESINOS Y OTRO SOCIEDAD DE HECHO   \n",
      "2  190167062001       COMERCIAL HERRERA JARAMILLO CIA. LTDA.   \n",
      "3  190167100001                 RAFAEL CORONEL S. CIA. LTDA.   \n",
      "4  190004163001             DISTRIBUIDORA BARRERA CIA. LTDA.   \n",
      "\n",
      "  codigo_jurisdiccion estado_contribuyente clase_contribuyente  \\\n",
      "0               AZUAY               PASIVO                 GEN   \n",
      "1               AZUAY               PASIVO                 GEN   \n",
      "2               AZUAY               PASIVO                 GEN   \n",
      "3               AZUAY               PASIVO                 GEN   \n",
      "4               AZUAY               PASIVO                 GEN   \n",
      "\n",
      "  fecha_inicio_actividades  fecha_actualizacion fecha_suspension_definitiva  \\\n",
      "0      1999-12-08 00:00:00  2005-09-08 17:47:33         2010-11-17 00:00:00   \n",
      "1      1998-04-23 00:00:00  2004-03-24 18:57:21         2001-08-03 00:00:00   \n",
      "2      1999-05-11 00:00:00  2002-08-28 00:00:00         2015-09-04 00:00:00   \n",
      "3      1998-10-08 00:00:00                  NaN         1998-11-17 00:00:00   \n",
      "4      1970-04-06 00:00:00  2012-12-04 00:00:00         2016-09-20 00:00:00   \n",
      "\n",
      "  fecha_reinicio_actividades obligado  ... numero_establecimiento  \\\n",
      "0                        NaN        S  ...                      1   \n",
      "1                        NaN        S  ...                      1   \n",
      "2                        NaN        S  ...                      1   \n",
      "3                        NaN        S  ...                      1   \n",
      "4                        NaN        S  ...                      1   \n",
      "\n",
      "   nombre_fantasia_comercial estado_establecimiento descripcion_provincia_est  \\\n",
      "0                 FLORIPAMBA                    CER                     AZUAY   \n",
      "1                        NaN                    CER                     AZUAY   \n",
      "2                        NaN                    CER                     AZUAY   \n",
      "3                        NaN                    CER                     AZUAY   \n",
      "4      DISTRIBUIDORA BARRERA                    CER                     AZUAY   \n",
      "\n",
      "  descripcion_canton_est descripcion_parroquia_est codigo_ciiu  \\\n",
      "0                 CUENCA                     SUCRE     A011903   \n",
      "1                 CUENCA                 EL VECINO     G463011   \n",
      "2                 CUENCA                BELLAVISTA     G474114   \n",
      "3                 CUENCA                BELLAVISTA     G465993   \n",
      "4                 CUENCA               HUAYNACAPAC     G469000   \n",
      "\n",
      "                                 actividad_economica agente_retencion especial  \n",
      "0  CULTIVO DE FLORES, INCLUIDA LA PRODUCCIÃN DE ...                N        N  \n",
      "1           VENTA AL POR MAYOR DE BANANO Y PLÃTANO.                N        N  \n",
      "2  VENTA AL POR MENOR DE MAQUINARIA Y APARATOS EL...                N        N  \n",
      "3  VENTA AL POR MAYOR DE EQUIPO ELÃCTRICO COMO: ...                N        N  \n",
      "4  VENTA AL POR MAYOR DE DIVERSOS PRODUCTOS SIN E...                N        N  \n",
      "\n",
      "[5 rows x 21 columns]\n",
      "Index(['numero_ruc', 'razon_social', 'codigo_jurisdiccion',\n",
      "       'estado_contribuyente', 'clase_contribuyente',\n",
      "       'fecha_inicio_actividades', 'fecha_actualizacion',\n",
      "       'fecha_suspension_definitiva', 'fecha_reinicio_actividades', 'obligado',\n",
      "       'tipo_contribuyente', 'numero_establecimiento',\n",
      "       'nombre_fantasia_comercial', 'estado_establecimiento',\n",
      "       'descripcion_provincia_est', 'descripcion_canton_est',\n",
      "       'descripcion_parroquia_est', 'codigo_ciiu', 'actividad_economica',\n",
      "       'agente_retencion', 'especial'],\n",
      "      dtype='object')\n"
     ]
    }
   ],
   "source": [
    "#Eliminar Duplicados\n",
    "df = df.drop_duplicates()\n",
    "\n",
    "# Verificar que se separaron las columnas\n",
    "print(df.head())\n",
    "print(df.columns)"
   ]
  },
  {
   "cell_type": "code",
   "execution_count": null,
   "id": "cce94d00",
   "metadata": {},
   "outputs": [
    {
     "name": "stdout",
     "output_type": "stream",
     "text": [
      "     numero_ruc                                 razon_social  \\\n",
      "0  190301850001                                   FLORIPAMBA   \n",
      "1  190159892001  TEODORO MONTESINOS Y OTRO SOCIEDAD DE HECHO   \n",
      "2  190167062001       COMERCIAL HERRERA JARAMILLO CIA. LTDA.   \n",
      "3  190167100001                 RAFAEL CORONEL S. CIA. LTDA.   \n",
      "4  190004163001             DISTRIBUIDORA BARRERA CIA. LTDA.   \n",
      "\n",
      "  codigo_jurisdiccion estado_contribuyente clase_contribuyente  \\\n",
      "0               AZUAY               PASIVO                 GEN   \n",
      "1               AZUAY               PASIVO                 GEN   \n",
      "2               AZUAY               PASIVO                 GEN   \n",
      "3               AZUAY               PASIVO                 GEN   \n",
      "4               AZUAY               PASIVO                 GEN   \n",
      "\n",
      "  fecha_inicio_actividades fecha_actualizacion fecha_suspension_definitiva  \\\n",
      "0               1999-12-08 2005-09-08 17:47:33                  2010-11-17   \n",
      "1               1998-04-23 2004-03-24 18:57:21                  2001-08-03   \n",
      "2               1999-05-11 2002-08-28 00:00:00                  2015-09-04   \n",
      "3               1998-10-08                 NaT                  1998-11-17   \n",
      "4               1970-04-06 2012-12-04 00:00:00                  2016-09-20   \n",
      "\n",
      "  fecha_reinicio_actividades obligado  ... numero_establecimiento  \\\n",
      "0                        NaT        S  ...                      1   \n",
      "1                        NaT        S  ...                      1   \n",
      "2                        NaT        S  ...                      1   \n",
      "3                        NaT        S  ...                      1   \n",
      "4                        NaT        S  ...                      1   \n",
      "\n",
      "   nombre_fantasia_comercial estado_establecimiento descripcion_provincia_est  \\\n",
      "0                 FLORIPAMBA                    CER                     AZUAY   \n",
      "1                        NaN                    CER                     AZUAY   \n",
      "2                        NaN                    CER                     AZUAY   \n",
      "3                        NaN                    CER                     AZUAY   \n",
      "4      DISTRIBUIDORA BARRERA                    CER                     AZUAY   \n",
      "\n",
      "  descripcion_canton_est descripcion_parroquia_est codigo_ciiu  \\\n",
      "0                 CUENCA                     SUCRE     A011903   \n",
      "1                 CUENCA                 EL VECINO     G463011   \n",
      "2                 CUENCA                BELLAVISTA     G474114   \n",
      "3                 CUENCA                BELLAVISTA     G465993   \n",
      "4                 CUENCA               HUAYNACAPAC     G469000   \n",
      "\n",
      "                                 actividad_economica agente_retencion especial  \n",
      "0  CULTIVO DE FLORES, INCLUIDA LA PRODUCCIÃN DE ...                N        N  \n",
      "1           VENTA AL POR MAYOR DE BANANO Y PLÃTANO.                N        N  \n",
      "2  VENTA AL POR MENOR DE MAQUINARIA Y APARATOS EL...                N        N  \n",
      "3  VENTA AL POR MAYOR DE EQUIPO ELÃCTRICO COMO: ...                N        N  \n",
      "4  VENTA AL POR MAYOR DE DIVERSOS PRODUCTOS SIN E...                N        N  \n",
      "\n",
      "[5 rows x 21 columns]\n",
      "Index(['numero_ruc', 'razon_social', 'codigo_jurisdiccion',\n",
      "       'estado_contribuyente', 'clase_contribuyente',\n",
      "       'fecha_inicio_actividades', 'fecha_actualizacion',\n",
      "       'fecha_suspension_definitiva', 'fecha_reinicio_actividades', 'obligado',\n",
      "       'tipo_contribuyente', 'numero_establecimiento',\n",
      "       'nombre_fantasia_comercial', 'estado_establecimiento',\n",
      "       'descripcion_provincia_est', 'descripcion_canton_est',\n",
      "       'descripcion_parroquia_est', 'codigo_ciiu', 'actividad_economica',\n",
      "       'agente_retencion', 'especial'],\n",
      "      dtype='object')\n"
     ]
    }
   ],
   "source": [
    "##Encargarnos de los valores nulos y eso\n",
    "# Fechas\n",
    "df['fecha_inicio_actividades'] = pd.to_datetime(df['fecha_inicio_actividades'], errors='coerce')\n",
    "df['fecha_actualizacion'] = pd.to_datetime(df['fecha_actualizacion'], errors='coerce')\n",
    "df['fecha_suspension_definitiva'] = pd.to_datetime(df['fecha_suspension_definitiva'], errors='coerce')\n",
    "df['fecha_reinicio_actividades'] = pd.to_datetime(df['fecha_reinicio_actividades'], errors='coerce')\n",
    "\n",
    "# Columna crítica\n",
    "df['numero_ruc'] = df['numero_ruc'].fillna('Desconocido')\n",
    "\n",
    "# Verificar que se separaron las columnas\n",
    "print(df.head())\n",
    "print(df.columns)"
   ]
  },
  {
   "cell_type": "code",
   "execution_count": null,
   "id": "d7259244",
   "metadata": {},
   "outputs": [
    {
     "name": "stdout",
     "output_type": "stream",
     "text": [
      "     numero_ruc                                 razon_social  \\\n",
      "0  190301850001                                   FLORIPAMBA   \n",
      "1  190159892001  TEODORO MONTESINOS Y OTRO SOCIEDAD DE HECHO   \n",
      "2  190167062001       COMERCIAL HERRERA JARAMILLO CIA. LTDA.   \n",
      "3  190167100001                 RAFAEL CORONEL S. CIA. LTDA.   \n",
      "4  190004163001             DISTRIBUIDORA BARRERA CIA. LTDA.   \n",
      "\n",
      "  codigo_jurisdiccion estado_contribuyente clase_contribuyente  \\\n",
      "0               AZUAY               PASIVO                 GEN   \n",
      "1               AZUAY               PASIVO                 GEN   \n",
      "2               AZUAY               PASIVO                 GEN   \n",
      "3               AZUAY               PASIVO                 GEN   \n",
      "4               AZUAY               PASIVO                 GEN   \n",
      "\n",
      "  fecha_inicio_actividades fecha_actualizacion fecha_suspension_definitiva  \\\n",
      "0               1999-12-08 2005-09-08 17:47:33                  2010-11-17   \n",
      "1               1998-04-23 2004-03-24 18:57:21                  2001-08-03   \n",
      "2               1999-05-11 2002-08-28 00:00:00                  2015-09-04   \n",
      "3               1998-10-08                 NaT                  1998-11-17   \n",
      "4               1970-04-06 2012-12-04 00:00:00                  2016-09-20   \n",
      "\n",
      "  fecha_reinicio_actividades obligado  ... numero_establecimiento  \\\n",
      "0                        NaT        S  ...                      1   \n",
      "1                        NaT        S  ...                      1   \n",
      "2                        NaT        S  ...                      1   \n",
      "3                        NaT        S  ...                      1   \n",
      "4                        NaT        S  ...                      1   \n",
      "\n",
      "   nombre_fantasia_comercial estado_establecimiento descripcion_provincia_est  \\\n",
      "0                 FLORIPAMBA                    CER                     AZUAY   \n",
      "1                        NaN                    CER                     AZUAY   \n",
      "2                        NaN                    CER                     AZUAY   \n",
      "3                        NaN                    CER                     AZUAY   \n",
      "4      DISTRIBUIDORA BARRERA                    CER                     AZUAY   \n",
      "\n",
      "  descripcion_canton_est descripcion_parroquia_est codigo_ciiu  \\\n",
      "0                 CUENCA                     SUCRE     A011903   \n",
      "1                 CUENCA                 EL VECINO     G463011   \n",
      "2                 CUENCA                BELLAVISTA     G474114   \n",
      "3                 CUENCA                BELLAVISTA     G465993   \n",
      "4                 CUENCA               HUAYNACAPAC     G469000   \n",
      "\n",
      "                                 actividad_economica agente_retencion especial  \n",
      "0  CULTIVO DE FLORES, INCLUIDA LA PRODUCCIÃN DE ...                N        N  \n",
      "1           VENTA AL POR MAYOR DE BANANO Y PLÃTANO.                N        N  \n",
      "2  VENTA AL POR MENOR DE MAQUINARIA Y APARATOS EL...                N        N  \n",
      "3  VENTA AL POR MAYOR DE EQUIPO ELÃCTRICO COMO: ...                N        N  \n",
      "4  VENTA AL POR MAYOR DE DIVERSOS PRODUCTOS SIN E...                N        N  \n",
      "\n",
      "[5 rows x 21 columns]\n",
      "Index(['numero_ruc', 'razon_social', 'codigo_jurisdiccion',\n",
      "       'estado_contribuyente', 'clase_contribuyente',\n",
      "       'fecha_inicio_actividades', 'fecha_actualizacion',\n",
      "       'fecha_suspension_definitiva', 'fecha_reinicio_actividades', 'obligado',\n",
      "       'tipo_contribuyente', 'numero_establecimiento',\n",
      "       'nombre_fantasia_comercial', 'estado_establecimiento',\n",
      "       'descripcion_provincia_est', 'descripcion_canton_est',\n",
      "       'descripcion_parroquia_est', 'codigo_ciiu', 'actividad_economica',\n",
      "       'agente_retencion', 'especial'],\n",
      "      dtype='object')\n"
     ]
    }
   ],
   "source": [
    "##eSTO ES LA PARTE DE LA NORMALIZACION\n",
    "\n",
    "df['codigo_jurisdiccion'] = df['codigo_jurisdiccion'].str.upper().str.strip()\n",
    "df['estado_contribuyente'] = df['estado_contribuyente'].str.upper().str.strip()\n",
    "df['clase_contribuyente'] = df['clase_contribuyente'].str.upper().str.strip()\n",
    "\n",
    "# Verificar que se separaron las columnas\n",
    "print(df.head())\n",
    "print(df.columns)"
   ]
  },
  {
   "cell_type": "code",
   "execution_count": null,
   "id": "ed7d63b2",
   "metadata": {},
   "outputs": [
    {
     "name": "stdout",
     "output_type": "stream",
     "text": [
      "  codigo_jurisdiccion  total_contribuyentes\n",
      "0               AZUAY                  1000\n",
      "  codigo_jurisdiccion  promedio_establecimientos\n",
      "0               AZUAY                      1.123\n",
      "  clase_contribuyente  total_establecimientos\n",
      "0                 GEN                    1106\n",
      "1                 RMP                       9\n",
      "2                 SIM                       8\n"
     ]
    }
   ],
   "source": [
    "##Esto es para generar las tablas pedidas.\n",
    "\n",
    "## Total de registros por provincia\n",
    "total_por_provincia = df.groupby('codigo_jurisdiccion')['numero_ruc'].count().reset_index()\n",
    "total_por_provincia.rename(columns={'numero_ruc':'total_contribuyentes'}, inplace=True)\n",
    "print(total_por_provincia)\n",
    "\n",
    "# Promedio de establecimientos por provincia\n",
    "promedio_establecimientos = df.groupby('codigo_jurisdiccion')['numero_establecimiento'].mean().reset_index()\n",
    "promedio_establecimientos.rename(columns={'numero_establecimiento':'promedio_establecimientos'}, inplace=True)\n",
    "print(promedio_establecimientos)\n",
    "\n",
    "# Total de establecimientos por clase de contribuyente\n",
    "total_por_clase = df.groupby('clase_contribuyente')['numero_establecimiento'].sum().reset_index()\n",
    "total_por_clase.rename(columns={'numero_establecimiento':'total_establecimientos'}, inplace=True)\n",
    "print(total_por_clase)\n"
   ]
  },
  {
   "cell_type": "code",
   "execution_count": 23,
   "id": "c6ab2872",
   "metadata": {},
   "outputs": [
    {
     "name": "stdout",
     "output_type": "stream",
     "text": [
      "  codigo_jurisdiccion  total_establecimientos\n",
      "0               AZUAY                    1123\n"
     ]
    }
   ],
   "source": [
    "#Detectar Relaciones\n",
    "relacion_provincia = df.groupby('codigo_jurisdiccion')['numero_establecimiento'].sum().reset_index()\n",
    "relacion_provincia.rename(columns={'numero_establecimiento':'total_establecimientos'}, inplace=True)\n",
    "print(relacion_provincia)"
   ]
  },
  {
   "cell_type": "code",
   "execution_count": 33,
   "id": "751f564b",
   "metadata": {},
   "outputs": [
    {
     "data": {
      "application/vnd.plotly.v1+json": {
       "config": {
        "plotlyServerURL": "https://plot.ly"
       },
       "data": [
        {
         "alignmentgroup": "True",
         "hovertemplate": "actividad_economica=%{x}<br>numero_ruc=%{y}<extra></extra>",
         "legendgroup": "",
         "marker": {
          "color": "#636efa",
          "pattern": {
           "shape": ""
          }
         },
         "name": "",
         "offsetgroup": "",
         "orientation": "v",
         "showlegend": false,
         "textposition": "auto",
         "type": "bar",
         "x": [
          "ACTIVIDADES DE ORGANIZACIONES NO AFILIADAS DIRECTAMENTE A UN PARTIDO POLÃTICO QUE PROMUEVEN UNA CAUSA O CUESTIÃN PÃBLICA MEDIANTE CAMPAÃAS DE EDUCACIÃN DEL PÃBLICO, INFLUENCIA POLÃTICA, RECAUDACIÃN DE FONDOS, ETCÃTERA; COMO INICIATIVAS CIUDADANAS Y MOVIMIENTOS DE PROTESTA; ACTIVIDADES DE MOVIMIENTOS AMBIENTALISTAS O ECOLOGISTA; ACTIVIDADES DE ORGANIZACIONES DE APOYO A SERVICIOS COMUNITARIOS Y EDUCATIVOS N.C.P.; ACTIVIDADES DE ORGANIZACIONES PARA LA PROTECCIÃN Y DEL ADELANTO DE GRUPOS ESPECIALES; POR EJEMPLO, GRUPOS ÃTNICOS Y MINORITARIOS Y ACTIVIDADES DE ASOCIACIONES CON FINES PATRIÃTICOS, INCLUIDAS ASOCIACIONES DE VETERANOS DE GUERRA.",
          "SERVICIOS DE ASESORAMIENTO EN ECONOMÃA DOMÃSTICA, DE ORIENTACIÃN MATRIMONIAL Y FAMILIAR, ASESORAMIENTO EN CUESTIONES CREDITICIAS Y DE DEUDA, ACTIVIDADES COMUNITARIAS Y VECINALES Y ACTIVIDADES DE REHABILITACIÃN Y HABILITACIÃN PROFESIONAL PARA PERSONAS DESEMPLEADAS, SIEMPRE QUE EL COMPONENTE DE EDUCACIÃN SEA LIMITADO.",
          "ADMINISTRACIÃN DE BIENES INMUEBLES A CAMBIO DE UNA RETRIBUCIÃN O POR CONTRATO.",
          "ACTIVIDADES DE GUARDERÃA O ATENCIÃN DIURNA DE NIÃOS, INCLUYENDO EL CUIDADO DIURNO DE NIÃOS CON DISCAPACIDAD.",
          "COMPRA - VENTA, ALQUILER Y EXPLOTACIÃN DE BIENES INMUEBLES PROPIOS O ARRENDADOS, COMO: EDIFICIOS DE APARTAMENTOS Y VIVIENDAS; EDIFICIOS NO RESIDENCIALES, INCLUSO SALAS DE EXPOSICIONES; INSTALACIONES PARA ALMACENAJE, CENTROS COMERCIALES Y TERRENOS; INCLUYE EL ALQUILER DE CASAS Y APARTAMENTOS AMUEBLADOS O SIN AMUEBLAR POR PERÃODOS LARGOS, EN GENERAL POR MESES O POR AÃOS.",
          "EDUCACIÃN PRIMARIA (DESARROLLA LAS CAPACIDADES, HABILIDADES, DESTREZAS Y COMPETENCIAS DE LAS NIÃAS, NIÃOS Y ADOLESCENTES, ESTÃ COMPUESTA POR SIETE AÃOS DE ESTUDIOS, COMPRENDE EL IMPARTIR FORMACIÃN ACADÃMICA Y OTRAS TAREAS RELACIONADAS A LOS ESTUDIANTES DE PRIMERO HASTA SÃPTIMO DE BÃSICA, QUE PROPORCIONAN UNA SÃLIDA EDUCACIÃN PARA LECTURA, ESCRITURA Y MATEMÃTICAS, ASÃ COMO UN NIVEL ELEMENTAL DE COMPRENSIÃN DE DISCIPLINAS COMO: HISTORIA, GEOGRAFÃA, CIENCIAS, ETCÃTERA; PUEDE SER PROVISTA EN SALONES DE CLASES O A TRAVÃS DE RADIO, TELEVISIÃN, INTERNET, CORRESPONDENCIA O EN EL HOGAR, INCLUYE LAS ACTIVIDADES DE ESCUELAS UNIDOCENTES).",
          "ACTIVIDADES DE LAS AGENCIAS DE VIAJES DEDICADAS PRINCIPALMENTE A VENDER SERVICIOS DE VIAJES, DE VIAJES ORGANIZADOS, DE TRANSPORTE Y DE ALOJAMIENTO, AL POR MAYOR O AL POR MENOR, AL PÃBLICO EN GENERAL Y A CLIENTES COMERCIALES.",
          "DEFENSA DE LOS INTERESES DE LOS SINDICATOS Y DE SUS AFILIADOS; ACTIVIDADES DE ASOCIACIONES CUYOS AFILIADOS SON EMPLEADOS INTERESADOS PRINCIPALMENTE EN DAR A CONOCER SUS OPINIONES SOBRE LA SITUACIÃN LABORAL Y SALARIAL Y EN TOMAR MEDIDAS CONCERTADAS POR CONDUCTO DE SU ORGANIZACIÃN; ACTIVIDADES DE SINDICATOS DE EMPRESAS, SINDICATOS CON FILIALES Y ORGANIZACIONES SINDICALES INTEGRADAS POR SINDICATOS AFILIADOS Y CONSTITUIDAS EN FUNCIÃN DEL OFICIO DE SUS MIEMBROS O EN FUNCIÃN DE CRITERIOS GEOGRÃFICOS, ESTRUCTURALES O DE OTRA ÃNDOLE.",
          "VENTA AL POR MAYOR DE DIVERSOS PRODUCTOS SIN ESPECIALIZACIÃN.",
          "VENTA DE TODO TIPO DE PARTES, COMPONENTES, SUMINISTROS, HERRAMIENTAS Y ACCESORIOS PARA VEHÃCULOS AUTOMOTORES COMO: NEUMÃTICOS (LLANTAS), CÃMARAS DE AIRE PARA NEUMÃTICOS (TUBOS). INCLUYE BUJÃAS, BATERÃAS, EQUIPO DE ILUMINACIÃN PARTES Y PIEZAS ELÃCTRICAS."
         ],
         "xaxis": "x",
         "y": [
          37,
          28,
          25,
          24,
          24,
          22,
          21,
          21,
          20,
          19
         ],
         "yaxis": "y"
        }
       ],
       "layout": {
        "barmode": "relative",
        "legend": {
         "tracegroupgap": 0
        },
        "template": {
         "data": {
          "bar": [
           {
            "error_x": {
             "color": "#2a3f5f"
            },
            "error_y": {
             "color": "#2a3f5f"
            },
            "marker": {
             "line": {
              "color": "#E5ECF6",
              "width": 0.5
             },
             "pattern": {
              "fillmode": "overlay",
              "size": 10,
              "solidity": 0.2
             }
            },
            "type": "bar"
           }
          ],
          "barpolar": [
           {
            "marker": {
             "line": {
              "color": "#E5ECF6",
              "width": 0.5
             },
             "pattern": {
              "fillmode": "overlay",
              "size": 10,
              "solidity": 0.2
             }
            },
            "type": "barpolar"
           }
          ],
          "carpet": [
           {
            "aaxis": {
             "endlinecolor": "#2a3f5f",
             "gridcolor": "white",
             "linecolor": "white",
             "minorgridcolor": "white",
             "startlinecolor": "#2a3f5f"
            },
            "baxis": {
             "endlinecolor": "#2a3f5f",
             "gridcolor": "white",
             "linecolor": "white",
             "minorgridcolor": "white",
             "startlinecolor": "#2a3f5f"
            },
            "type": "carpet"
           }
          ],
          "choropleth": [
           {
            "colorbar": {
             "outlinewidth": 0,
             "ticks": ""
            },
            "type": "choropleth"
           }
          ],
          "contour": [
           {
            "colorbar": {
             "outlinewidth": 0,
             "ticks": ""
            },
            "colorscale": [
             [
              0,
              "#0d0887"
             ],
             [
              0.1111111111111111,
              "#46039f"
             ],
             [
              0.2222222222222222,
              "#7201a8"
             ],
             [
              0.3333333333333333,
              "#9c179e"
             ],
             [
              0.4444444444444444,
              "#bd3786"
             ],
             [
              0.5555555555555556,
              "#d8576b"
             ],
             [
              0.6666666666666666,
              "#ed7953"
             ],
             [
              0.7777777777777778,
              "#fb9f3a"
             ],
             [
              0.8888888888888888,
              "#fdca26"
             ],
             [
              1,
              "#f0f921"
             ]
            ],
            "type": "contour"
           }
          ],
          "contourcarpet": [
           {
            "colorbar": {
             "outlinewidth": 0,
             "ticks": ""
            },
            "type": "contourcarpet"
           }
          ],
          "heatmap": [
           {
            "colorbar": {
             "outlinewidth": 0,
             "ticks": ""
            },
            "colorscale": [
             [
              0,
              "#0d0887"
             ],
             [
              0.1111111111111111,
              "#46039f"
             ],
             [
              0.2222222222222222,
              "#7201a8"
             ],
             [
              0.3333333333333333,
              "#9c179e"
             ],
             [
              0.4444444444444444,
              "#bd3786"
             ],
             [
              0.5555555555555556,
              "#d8576b"
             ],
             [
              0.6666666666666666,
              "#ed7953"
             ],
             [
              0.7777777777777778,
              "#fb9f3a"
             ],
             [
              0.8888888888888888,
              "#fdca26"
             ],
             [
              1,
              "#f0f921"
             ]
            ],
            "type": "heatmap"
           }
          ],
          "heatmapgl": [
           {
            "colorbar": {
             "outlinewidth": 0,
             "ticks": ""
            },
            "colorscale": [
             [
              0,
              "#0d0887"
             ],
             [
              0.1111111111111111,
              "#46039f"
             ],
             [
              0.2222222222222222,
              "#7201a8"
             ],
             [
              0.3333333333333333,
              "#9c179e"
             ],
             [
              0.4444444444444444,
              "#bd3786"
             ],
             [
              0.5555555555555556,
              "#d8576b"
             ],
             [
              0.6666666666666666,
              "#ed7953"
             ],
             [
              0.7777777777777778,
              "#fb9f3a"
             ],
             [
              0.8888888888888888,
              "#fdca26"
             ],
             [
              1,
              "#f0f921"
             ]
            ],
            "type": "heatmapgl"
           }
          ],
          "histogram": [
           {
            "marker": {
             "pattern": {
              "fillmode": "overlay",
              "size": 10,
              "solidity": 0.2
             }
            },
            "type": "histogram"
           }
          ],
          "histogram2d": [
           {
            "colorbar": {
             "outlinewidth": 0,
             "ticks": ""
            },
            "colorscale": [
             [
              0,
              "#0d0887"
             ],
             [
              0.1111111111111111,
              "#46039f"
             ],
             [
              0.2222222222222222,
              "#7201a8"
             ],
             [
              0.3333333333333333,
              "#9c179e"
             ],
             [
              0.4444444444444444,
              "#bd3786"
             ],
             [
              0.5555555555555556,
              "#d8576b"
             ],
             [
              0.6666666666666666,
              "#ed7953"
             ],
             [
              0.7777777777777778,
              "#fb9f3a"
             ],
             [
              0.8888888888888888,
              "#fdca26"
             ],
             [
              1,
              "#f0f921"
             ]
            ],
            "type": "histogram2d"
           }
          ],
          "histogram2dcontour": [
           {
            "colorbar": {
             "outlinewidth": 0,
             "ticks": ""
            },
            "colorscale": [
             [
              0,
              "#0d0887"
             ],
             [
              0.1111111111111111,
              "#46039f"
             ],
             [
              0.2222222222222222,
              "#7201a8"
             ],
             [
              0.3333333333333333,
              "#9c179e"
             ],
             [
              0.4444444444444444,
              "#bd3786"
             ],
             [
              0.5555555555555556,
              "#d8576b"
             ],
             [
              0.6666666666666666,
              "#ed7953"
             ],
             [
              0.7777777777777778,
              "#fb9f3a"
             ],
             [
              0.8888888888888888,
              "#fdca26"
             ],
             [
              1,
              "#f0f921"
             ]
            ],
            "type": "histogram2dcontour"
           }
          ],
          "mesh3d": [
           {
            "colorbar": {
             "outlinewidth": 0,
             "ticks": ""
            },
            "type": "mesh3d"
           }
          ],
          "parcoords": [
           {
            "line": {
             "colorbar": {
              "outlinewidth": 0,
              "ticks": ""
             }
            },
            "type": "parcoords"
           }
          ],
          "pie": [
           {
            "automargin": true,
            "type": "pie"
           }
          ],
          "scatter": [
           {
            "fillpattern": {
             "fillmode": "overlay",
             "size": 10,
             "solidity": 0.2
            },
            "type": "scatter"
           }
          ],
          "scatter3d": [
           {
            "line": {
             "colorbar": {
              "outlinewidth": 0,
              "ticks": ""
             }
            },
            "marker": {
             "colorbar": {
              "outlinewidth": 0,
              "ticks": ""
             }
            },
            "type": "scatter3d"
           }
          ],
          "scattercarpet": [
           {
            "marker": {
             "colorbar": {
              "outlinewidth": 0,
              "ticks": ""
             }
            },
            "type": "scattercarpet"
           }
          ],
          "scattergeo": [
           {
            "marker": {
             "colorbar": {
              "outlinewidth": 0,
              "ticks": ""
             }
            },
            "type": "scattergeo"
           }
          ],
          "scattergl": [
           {
            "marker": {
             "colorbar": {
              "outlinewidth": 0,
              "ticks": ""
             }
            },
            "type": "scattergl"
           }
          ],
          "scattermapbox": [
           {
            "marker": {
             "colorbar": {
              "outlinewidth": 0,
              "ticks": ""
             }
            },
            "type": "scattermapbox"
           }
          ],
          "scatterpolar": [
           {
            "marker": {
             "colorbar": {
              "outlinewidth": 0,
              "ticks": ""
             }
            },
            "type": "scatterpolar"
           }
          ],
          "scatterpolargl": [
           {
            "marker": {
             "colorbar": {
              "outlinewidth": 0,
              "ticks": ""
             }
            },
            "type": "scatterpolargl"
           }
          ],
          "scatterternary": [
           {
            "marker": {
             "colorbar": {
              "outlinewidth": 0,
              "ticks": ""
             }
            },
            "type": "scatterternary"
           }
          ],
          "surface": [
           {
            "colorbar": {
             "outlinewidth": 0,
             "ticks": ""
            },
            "colorscale": [
             [
              0,
              "#0d0887"
             ],
             [
              0.1111111111111111,
              "#46039f"
             ],
             [
              0.2222222222222222,
              "#7201a8"
             ],
             [
              0.3333333333333333,
              "#9c179e"
             ],
             [
              0.4444444444444444,
              "#bd3786"
             ],
             [
              0.5555555555555556,
              "#d8576b"
             ],
             [
              0.6666666666666666,
              "#ed7953"
             ],
             [
              0.7777777777777778,
              "#fb9f3a"
             ],
             [
              0.8888888888888888,
              "#fdca26"
             ],
             [
              1,
              "#f0f921"
             ]
            ],
            "type": "surface"
           }
          ],
          "table": [
           {
            "cells": {
             "fill": {
              "color": "#EBF0F8"
             },
             "line": {
              "color": "white"
             }
            },
            "header": {
             "fill": {
              "color": "#C8D4E3"
             },
             "line": {
              "color": "white"
             }
            },
            "type": "table"
           }
          ]
         },
         "layout": {
          "annotationdefaults": {
           "arrowcolor": "#2a3f5f",
           "arrowhead": 0,
           "arrowwidth": 1
          },
          "autotypenumbers": "strict",
          "coloraxis": {
           "colorbar": {
            "outlinewidth": 0,
            "ticks": ""
           }
          },
          "colorscale": {
           "diverging": [
            [
             0,
             "#8e0152"
            ],
            [
             0.1,
             "#c51b7d"
            ],
            [
             0.2,
             "#de77ae"
            ],
            [
             0.3,
             "#f1b6da"
            ],
            [
             0.4,
             "#fde0ef"
            ],
            [
             0.5,
             "#f7f7f7"
            ],
            [
             0.6,
             "#e6f5d0"
            ],
            [
             0.7,
             "#b8e186"
            ],
            [
             0.8,
             "#7fbc41"
            ],
            [
             0.9,
             "#4d9221"
            ],
            [
             1,
             "#276419"
            ]
           ],
           "sequential": [
            [
             0,
             "#0d0887"
            ],
            [
             0.1111111111111111,
             "#46039f"
            ],
            [
             0.2222222222222222,
             "#7201a8"
            ],
            [
             0.3333333333333333,
             "#9c179e"
            ],
            [
             0.4444444444444444,
             "#bd3786"
            ],
            [
             0.5555555555555556,
             "#d8576b"
            ],
            [
             0.6666666666666666,
             "#ed7953"
            ],
            [
             0.7777777777777778,
             "#fb9f3a"
            ],
            [
             0.8888888888888888,
             "#fdca26"
            ],
            [
             1,
             "#f0f921"
            ]
           ],
           "sequentialminus": [
            [
             0,
             "#0d0887"
            ],
            [
             0.1111111111111111,
             "#46039f"
            ],
            [
             0.2222222222222222,
             "#7201a8"
            ],
            [
             0.3333333333333333,
             "#9c179e"
            ],
            [
             0.4444444444444444,
             "#bd3786"
            ],
            [
             0.5555555555555556,
             "#d8576b"
            ],
            [
             0.6666666666666666,
             "#ed7953"
            ],
            [
             0.7777777777777778,
             "#fb9f3a"
            ],
            [
             0.8888888888888888,
             "#fdca26"
            ],
            [
             1,
             "#f0f921"
            ]
           ]
          },
          "colorway": [
           "#636efa",
           "#EF553B",
           "#00cc96",
           "#ab63fa",
           "#FFA15A",
           "#19d3f3",
           "#FF6692",
           "#B6E880",
           "#FF97FF",
           "#FECB52"
          ],
          "font": {
           "color": "#2a3f5f"
          },
          "geo": {
           "bgcolor": "white",
           "lakecolor": "white",
           "landcolor": "#E5ECF6",
           "showlakes": true,
           "showland": true,
           "subunitcolor": "white"
          },
          "hoverlabel": {
           "align": "left"
          },
          "hovermode": "closest",
          "mapbox": {
           "style": "light"
          },
          "paper_bgcolor": "white",
          "plot_bgcolor": "#E5ECF6",
          "polar": {
           "angularaxis": {
            "gridcolor": "white",
            "linecolor": "white",
            "ticks": ""
           },
           "bgcolor": "#E5ECF6",
           "radialaxis": {
            "gridcolor": "white",
            "linecolor": "white",
            "ticks": ""
           }
          },
          "scene": {
           "xaxis": {
            "backgroundcolor": "#E5ECF6",
            "gridcolor": "white",
            "gridwidth": 2,
            "linecolor": "white",
            "showbackground": true,
            "ticks": "",
            "zerolinecolor": "white"
           },
           "yaxis": {
            "backgroundcolor": "#E5ECF6",
            "gridcolor": "white",
            "gridwidth": 2,
            "linecolor": "white",
            "showbackground": true,
            "ticks": "",
            "zerolinecolor": "white"
           },
           "zaxis": {
            "backgroundcolor": "#E5ECF6",
            "gridcolor": "white",
            "gridwidth": 2,
            "linecolor": "white",
            "showbackground": true,
            "ticks": "",
            "zerolinecolor": "white"
           }
          },
          "shapedefaults": {
           "line": {
            "color": "#2a3f5f"
           }
          },
          "ternary": {
           "aaxis": {
            "gridcolor": "white",
            "linecolor": "white",
            "ticks": ""
           },
           "baxis": {
            "gridcolor": "white",
            "linecolor": "white",
            "ticks": ""
           },
           "bgcolor": "#E5ECF6",
           "caxis": {
            "gridcolor": "white",
            "linecolor": "white",
            "ticks": ""
           }
          },
          "title": {
           "x": 0.05
          },
          "xaxis": {
           "automargin": true,
           "gridcolor": "white",
           "linecolor": "white",
           "ticks": "",
           "title": {
            "standoff": 15
           },
           "zerolinecolor": "white",
           "zerolinewidth": 2
          },
          "yaxis": {
           "automargin": true,
           "gridcolor": "white",
           "linecolor": "white",
           "ticks": "",
           "title": {
            "standoff": 15
           },
           "zerolinecolor": "white",
           "zerolinewidth": 2
          }
         }
        },
        "title": {
         "text": "1- Top 10 Actividades Económicas por Contribuyentes"
        },
        "xaxis": {
         "anchor": "y",
         "domain": [
          0,
          1
         ],
         "title": {
          "text": "actividad_economica"
         }
        },
        "yaxis": {
         "anchor": "x",
         "domain": [
          0,
          1
         ],
         "title": {
          "text": "numero_ruc"
         }
        }
       }
      }
     },
     "metadata": {},
     "output_type": "display_data"
    }
   ],
   "source": [
    "#VAMOS CON LAS GRAFICAS.\n",
    "import plotly.express as px\n",
    "\n",
    "top_actividades = df.groupby('actividad_economica')['numero_ruc'].count().nlargest(10).reset_index()\n",
    "fig = px.bar(top_actividades, x='actividad_economica', y='numero_ruc',\n",
    "             title='1- Top 10 Actividades Económicas por Contribuyentes')\n",
    "fig.show()\n",
    "\n",
    "#Estas son las 10 Actividades económicas más practicadas por los contribuyentes."
   ]
  },
  {
   "cell_type": "code",
   "execution_count": 34,
   "id": "b90a4397",
   "metadata": {},
   "outputs": [
    {
     "data": {
      "application/vnd.plotly.v1+json": {
       "config": {
        "plotlyServerURL": "https://plot.ly"
       },
       "data": [
        {
         "hovertemplate": "mes=%{x}<br>numero_establecimiento=%{y}<extra></extra>",
         "legendgroup": "",
         "line": {
          "color": "#636efa",
          "dash": "solid"
         },
         "marker": {
          "symbol": "circle"
         },
         "mode": "lines",
         "name": "",
         "orientation": "v",
         "showlegend": false,
         "type": "scatter",
         "x": [
          "1928-01-01T00:00:00",
          "1937-10-01T00:00:00",
          "1944-07-01T00:00:00",
          "1946-02-01T00:00:00",
          "1948-01-01T00:00:00",
          "1948-10-01T00:00:00",
          "1950-01-01T00:00:00",
          "1954-04-01T00:00:00",
          "1954-09-01T00:00:00",
          "1956-10-01T00:00:00",
          "1958-10-01T00:00:00",
          "1962-10-01T00:00:00",
          "1964-01-01T00:00:00",
          "1965-01-01T00:00:00",
          "1966-01-01T00:00:00",
          "1966-02-01T00:00:00",
          "1966-08-01T00:00:00",
          "1966-10-01T00:00:00",
          "1967-02-01T00:00:00",
          "1968-01-01T00:00:00",
          "1968-11-01T00:00:00",
          "1969-10-01T00:00:00",
          "1970-01-01T00:00:00",
          "1970-04-01T00:00:00",
          "1970-06-01T00:00:00",
          "1970-07-01T00:00:00",
          "1970-09-01T00:00:00",
          "1970-10-01T00:00:00",
          "1970-11-01T00:00:00",
          "1971-03-01T00:00:00",
          "1971-07-01T00:00:00",
          "1971-09-01T00:00:00",
          "1972-01-01T00:00:00",
          "1972-03-01T00:00:00",
          "1972-04-01T00:00:00",
          "1972-07-01T00:00:00",
          "1972-09-01T00:00:00",
          "1972-11-01T00:00:00",
          "1972-12-01T00:00:00",
          "1973-01-01T00:00:00",
          "1973-03-01T00:00:00",
          "1973-04-01T00:00:00",
          "1973-06-01T00:00:00",
          "1973-10-01T00:00:00",
          "1974-07-01T00:00:00",
          "1974-09-01T00:00:00",
          "1975-02-01T00:00:00",
          "1975-05-01T00:00:00",
          "1976-09-01T00:00:00",
          "1977-06-01T00:00:00",
          "1977-10-01T00:00:00",
          "1977-11-01T00:00:00",
          "1978-02-01T00:00:00",
          "1978-08-01T00:00:00",
          "1979-03-01T00:00:00",
          "1979-05-01T00:00:00",
          "1979-06-01T00:00:00",
          "1979-08-01T00:00:00",
          "1979-09-01T00:00:00",
          "1979-12-01T00:00:00",
          "1980-01-01T00:00:00",
          "1980-05-01T00:00:00",
          "1980-06-01T00:00:00",
          "1980-07-01T00:00:00",
          "1980-10-01T00:00:00",
          "1981-04-01T00:00:00",
          "1981-09-01T00:00:00",
          "1981-10-01T00:00:00",
          "1982-05-01T00:00:00",
          "1982-10-01T00:00:00",
          "1983-01-01T00:00:00",
          "1983-10-01T00:00:00",
          "1984-03-01T00:00:00",
          "1984-06-01T00:00:00",
          "1984-09-01T00:00:00",
          "1984-11-01T00:00:00",
          "1985-09-01T00:00:00",
          "1985-10-01T00:00:00",
          "1986-03-01T00:00:00",
          "1986-04-01T00:00:00",
          "1986-05-01T00:00:00",
          "1986-12-01T00:00:00",
          "1987-12-01T00:00:00",
          "1988-02-01T00:00:00",
          "1988-04-01T00:00:00",
          "1988-06-01T00:00:00",
          "1988-10-01T00:00:00",
          "1988-12-01T00:00:00",
          "1989-04-01T00:00:00",
          "1989-08-01T00:00:00",
          "1989-12-01T00:00:00",
          "1990-04-01T00:00:00",
          "1990-07-01T00:00:00",
          "1991-01-01T00:00:00",
          "1991-03-01T00:00:00",
          "1991-06-01T00:00:00",
          "1991-07-01T00:00:00",
          "1991-11-01T00:00:00",
          "1992-03-01T00:00:00",
          "1992-05-01T00:00:00",
          "1992-06-01T00:00:00",
          "1992-08-01T00:00:00",
          "1993-01-01T00:00:00",
          "1993-02-01T00:00:00",
          "1993-04-01T00:00:00",
          "1993-05-01T00:00:00",
          "1993-06-01T00:00:00",
          "1993-07-01T00:00:00",
          "1993-08-01T00:00:00",
          "1993-09-01T00:00:00",
          "1993-12-01T00:00:00",
          "1994-01-01T00:00:00",
          "1994-02-01T00:00:00",
          "1994-03-01T00:00:00",
          "1994-04-01T00:00:00",
          "1994-05-01T00:00:00",
          "1994-06-01T00:00:00",
          "1994-08-01T00:00:00",
          "1994-10-01T00:00:00",
          "1994-11-01T00:00:00",
          "1995-01-01T00:00:00",
          "1995-02-01T00:00:00",
          "1995-04-01T00:00:00",
          "1995-06-01T00:00:00",
          "1995-07-01T00:00:00",
          "1995-09-01T00:00:00",
          "1995-10-01T00:00:00",
          "1995-11-01T00:00:00",
          "1995-12-01T00:00:00",
          "1996-01-01T00:00:00",
          "1996-03-01T00:00:00",
          "1996-04-01T00:00:00",
          "1996-05-01T00:00:00",
          "1996-06-01T00:00:00",
          "1996-07-01T00:00:00",
          "1996-08-01T00:00:00",
          "1996-09-01T00:00:00",
          "1996-10-01T00:00:00",
          "1996-11-01T00:00:00",
          "1996-12-01T00:00:00",
          "1997-01-01T00:00:00",
          "1997-02-01T00:00:00",
          "1997-03-01T00:00:00",
          "1997-04-01T00:00:00",
          "1997-05-01T00:00:00",
          "1997-06-01T00:00:00",
          "1997-07-01T00:00:00",
          "1997-08-01T00:00:00",
          "1997-09-01T00:00:00",
          "1997-10-01T00:00:00",
          "1997-11-01T00:00:00",
          "1997-12-01T00:00:00",
          "1998-01-01T00:00:00",
          "1998-02-01T00:00:00",
          "1998-03-01T00:00:00",
          "1998-04-01T00:00:00",
          "1998-05-01T00:00:00",
          "1998-06-01T00:00:00",
          "1998-07-01T00:00:00",
          "1998-08-01T00:00:00",
          "1998-09-01T00:00:00",
          "1998-10-01T00:00:00",
          "1998-11-01T00:00:00",
          "1998-12-01T00:00:00",
          "1999-01-01T00:00:00",
          "1999-02-01T00:00:00",
          "1999-03-01T00:00:00",
          "1999-04-01T00:00:00",
          "1999-05-01T00:00:00",
          "1999-06-01T00:00:00",
          "1999-07-01T00:00:00",
          "1999-08-01T00:00:00",
          "1999-09-01T00:00:00",
          "1999-10-01T00:00:00",
          "1999-11-01T00:00:00",
          "1999-12-01T00:00:00",
          "2000-01-01T00:00:00",
          "2000-02-01T00:00:00",
          "2000-03-01T00:00:00",
          "2000-04-01T00:00:00",
          "2000-05-01T00:00:00",
          "2000-06-01T00:00:00",
          "2000-07-01T00:00:00",
          "2000-08-01T00:00:00",
          "2000-09-01T00:00:00",
          "2000-10-01T00:00:00",
          "2000-11-01T00:00:00",
          "2000-12-01T00:00:00",
          "2001-01-01T00:00:00",
          "2001-02-01T00:00:00",
          "2001-03-01T00:00:00",
          "2001-04-01T00:00:00",
          "2001-05-01T00:00:00",
          "2001-06-01T00:00:00",
          "2001-07-01T00:00:00",
          "2001-08-01T00:00:00",
          "2001-09-01T00:00:00",
          "2001-10-01T00:00:00",
          "2001-11-01T00:00:00",
          "2001-12-01T00:00:00",
          "2002-01-01T00:00:00",
          "2002-02-01T00:00:00",
          "2002-03-01T00:00:00",
          "2002-04-01T00:00:00",
          "2002-05-01T00:00:00",
          "2002-06-01T00:00:00",
          "2002-07-01T00:00:00",
          "2002-08-01T00:00:00",
          "2002-09-01T00:00:00",
          "2002-10-01T00:00:00",
          "2002-11-01T00:00:00",
          "2002-12-01T00:00:00",
          "2003-01-01T00:00:00",
          "2003-02-01T00:00:00",
          "2003-03-01T00:00:00",
          "2003-04-01T00:00:00",
          "2003-05-01T00:00:00",
          "2003-06-01T00:00:00",
          "2003-07-01T00:00:00",
          "2003-08-01T00:00:00",
          "2003-09-01T00:00:00",
          "2003-10-01T00:00:00",
          "2003-11-01T00:00:00",
          "2003-12-01T00:00:00",
          "2004-01-01T00:00:00",
          "2004-02-01T00:00:00",
          "2004-03-01T00:00:00",
          "2004-04-01T00:00:00",
          "2004-05-01T00:00:00",
          "2004-06-01T00:00:00",
          "2004-07-01T00:00:00",
          "2004-08-01T00:00:00",
          "2004-09-01T00:00:00",
          "2004-10-01T00:00:00",
          "2004-11-01T00:00:00",
          "2004-12-01T00:00:00",
          "2005-01-01T00:00:00",
          "2005-02-01T00:00:00",
          "2005-03-01T00:00:00",
          "2005-04-01T00:00:00",
          "2005-05-01T00:00:00",
          "2005-06-01T00:00:00",
          "2005-07-01T00:00:00",
          "2005-08-01T00:00:00",
          "2005-09-01T00:00:00",
          "2005-10-01T00:00:00",
          "2005-11-01T00:00:00",
          "2005-12-01T00:00:00",
          "2006-01-01T00:00:00",
          "2006-02-01T00:00:00",
          "2006-03-01T00:00:00",
          "2006-04-01T00:00:00",
          "2006-05-01T00:00:00",
          "2006-06-01T00:00:00",
          "2006-07-01T00:00:00",
          "2006-08-01T00:00:00",
          "2006-09-01T00:00:00",
          "2006-10-01T00:00:00",
          "2006-11-01T00:00:00",
          "2007-01-01T00:00:00",
          "2007-03-01T00:00:00",
          "2007-06-01T00:00:00",
          "2007-08-01T00:00:00",
          "2007-09-01T00:00:00",
          "2007-10-01T00:00:00",
          "2007-11-01T00:00:00",
          "2008-01-01T00:00:00",
          "2008-02-01T00:00:00",
          "2008-04-01T00:00:00",
          "2008-05-01T00:00:00",
          "2008-07-01T00:00:00",
          "2008-10-01T00:00:00",
          "2008-11-01T00:00:00",
          "2009-01-01T00:00:00"
         ],
         "xaxis": "x",
         "y": [
          1,
          18,
          3,
          1,
          1,
          1,
          1,
          3,
          1,
          1,
          1,
          1,
          1,
          2,
          1,
          1,
          1,
          1,
          1,
          2,
          1,
          1,
          3,
          1,
          1,
          1,
          1,
          34,
          1,
          2,
          1,
          1,
          1,
          1,
          1,
          1,
          2,
          1,
          1,
          1,
          1,
          1,
          1,
          3,
          1,
          1,
          1,
          32,
          1,
          1,
          1,
          1,
          1,
          1,
          1,
          4,
          1,
          1,
          1,
          2,
          1,
          1,
          1,
          2,
          2,
          2,
          1,
          1,
          1,
          1,
          1,
          1,
          2,
          2,
          1,
          1,
          4,
          2,
          1,
          2,
          1,
          1,
          2,
          1,
          1,
          1,
          1,
          2,
          1,
          1,
          2,
          3,
          1,
          4,
          1,
          1,
          1,
          4,
          1,
          3,
          1,
          2,
          2,
          2,
          1,
          2,
          4,
          2,
          1,
          3,
          3,
          1,
          3,
          1,
          1,
          1,
          1,
          1,
          3,
          2,
          1,
          3,
          2,
          1,
          1,
          4,
          3,
          4,
          2,
          4,
          5,
          3,
          2,
          5,
          2,
          5,
          4,
          2,
          2,
          2,
          4,
          1,
          8,
          3,
          5,
          5,
          5,
          5,
          3,
          10,
          8,
          3,
          5,
          2,
          4,
          5,
          5,
          8,
          5,
          4,
          7,
          5,
          7,
          3,
          4,
          3,
          2,
          6,
          10,
          3,
          3,
          8,
          11,
          9,
          11,
          16,
          4,
          8,
          10,
          15,
          6,
          3,
          9,
          1,
          1,
          6,
          6,
          4,
          5,
          5,
          9,
          11,
          5,
          12,
          5,
          7,
          5,
          3,
          3,
          2,
          5,
          7,
          4,
          11,
          11,
          8,
          8,
          7,
          8,
          5,
          8,
          4,
          11,
          4,
          9,
          3,
          5,
          7,
          7,
          3,
          3,
          9,
          24,
          4,
          6,
          7,
          19,
          5,
          8,
          11,
          6,
          9,
          5,
          6,
          8,
          13,
          10,
          6,
          5,
          5,
          3,
          7,
          5,
          4,
          6,
          5,
          5,
          8,
          7,
          4,
          5,
          1,
          6,
          10,
          3,
          30,
          1,
          2,
          1,
          1,
          1,
          3,
          3,
          1,
          3,
          1,
          6,
          1,
          5,
          5,
          1,
          5,
          2,
          2
         ],
         "yaxis": "y"
        }
       ],
       "layout": {
        "legend": {
         "tracegroupgap": 0
        },
        "template": {
         "data": {
          "bar": [
           {
            "error_x": {
             "color": "#2a3f5f"
            },
            "error_y": {
             "color": "#2a3f5f"
            },
            "marker": {
             "line": {
              "color": "#E5ECF6",
              "width": 0.5
             },
             "pattern": {
              "fillmode": "overlay",
              "size": 10,
              "solidity": 0.2
             }
            },
            "type": "bar"
           }
          ],
          "barpolar": [
           {
            "marker": {
             "line": {
              "color": "#E5ECF6",
              "width": 0.5
             },
             "pattern": {
              "fillmode": "overlay",
              "size": 10,
              "solidity": 0.2
             }
            },
            "type": "barpolar"
           }
          ],
          "carpet": [
           {
            "aaxis": {
             "endlinecolor": "#2a3f5f",
             "gridcolor": "white",
             "linecolor": "white",
             "minorgridcolor": "white",
             "startlinecolor": "#2a3f5f"
            },
            "baxis": {
             "endlinecolor": "#2a3f5f",
             "gridcolor": "white",
             "linecolor": "white",
             "minorgridcolor": "white",
             "startlinecolor": "#2a3f5f"
            },
            "type": "carpet"
           }
          ],
          "choropleth": [
           {
            "colorbar": {
             "outlinewidth": 0,
             "ticks": ""
            },
            "type": "choropleth"
           }
          ],
          "contour": [
           {
            "colorbar": {
             "outlinewidth": 0,
             "ticks": ""
            },
            "colorscale": [
             [
              0,
              "#0d0887"
             ],
             [
              0.1111111111111111,
              "#46039f"
             ],
             [
              0.2222222222222222,
              "#7201a8"
             ],
             [
              0.3333333333333333,
              "#9c179e"
             ],
             [
              0.4444444444444444,
              "#bd3786"
             ],
             [
              0.5555555555555556,
              "#d8576b"
             ],
             [
              0.6666666666666666,
              "#ed7953"
             ],
             [
              0.7777777777777778,
              "#fb9f3a"
             ],
             [
              0.8888888888888888,
              "#fdca26"
             ],
             [
              1,
              "#f0f921"
             ]
            ],
            "type": "contour"
           }
          ],
          "contourcarpet": [
           {
            "colorbar": {
             "outlinewidth": 0,
             "ticks": ""
            },
            "type": "contourcarpet"
           }
          ],
          "heatmap": [
           {
            "colorbar": {
             "outlinewidth": 0,
             "ticks": ""
            },
            "colorscale": [
             [
              0,
              "#0d0887"
             ],
             [
              0.1111111111111111,
              "#46039f"
             ],
             [
              0.2222222222222222,
              "#7201a8"
             ],
             [
              0.3333333333333333,
              "#9c179e"
             ],
             [
              0.4444444444444444,
              "#bd3786"
             ],
             [
              0.5555555555555556,
              "#d8576b"
             ],
             [
              0.6666666666666666,
              "#ed7953"
             ],
             [
              0.7777777777777778,
              "#fb9f3a"
             ],
             [
              0.8888888888888888,
              "#fdca26"
             ],
             [
              1,
              "#f0f921"
             ]
            ],
            "type": "heatmap"
           }
          ],
          "heatmapgl": [
           {
            "colorbar": {
             "outlinewidth": 0,
             "ticks": ""
            },
            "colorscale": [
             [
              0,
              "#0d0887"
             ],
             [
              0.1111111111111111,
              "#46039f"
             ],
             [
              0.2222222222222222,
              "#7201a8"
             ],
             [
              0.3333333333333333,
              "#9c179e"
             ],
             [
              0.4444444444444444,
              "#bd3786"
             ],
             [
              0.5555555555555556,
              "#d8576b"
             ],
             [
              0.6666666666666666,
              "#ed7953"
             ],
             [
              0.7777777777777778,
              "#fb9f3a"
             ],
             [
              0.8888888888888888,
              "#fdca26"
             ],
             [
              1,
              "#f0f921"
             ]
            ],
            "type": "heatmapgl"
           }
          ],
          "histogram": [
           {
            "marker": {
             "pattern": {
              "fillmode": "overlay",
              "size": 10,
              "solidity": 0.2
             }
            },
            "type": "histogram"
           }
          ],
          "histogram2d": [
           {
            "colorbar": {
             "outlinewidth": 0,
             "ticks": ""
            },
            "colorscale": [
             [
              0,
              "#0d0887"
             ],
             [
              0.1111111111111111,
              "#46039f"
             ],
             [
              0.2222222222222222,
              "#7201a8"
             ],
             [
              0.3333333333333333,
              "#9c179e"
             ],
             [
              0.4444444444444444,
              "#bd3786"
             ],
             [
              0.5555555555555556,
              "#d8576b"
             ],
             [
              0.6666666666666666,
              "#ed7953"
             ],
             [
              0.7777777777777778,
              "#fb9f3a"
             ],
             [
              0.8888888888888888,
              "#fdca26"
             ],
             [
              1,
              "#f0f921"
             ]
            ],
            "type": "histogram2d"
           }
          ],
          "histogram2dcontour": [
           {
            "colorbar": {
             "outlinewidth": 0,
             "ticks": ""
            },
            "colorscale": [
             [
              0,
              "#0d0887"
             ],
             [
              0.1111111111111111,
              "#46039f"
             ],
             [
              0.2222222222222222,
              "#7201a8"
             ],
             [
              0.3333333333333333,
              "#9c179e"
             ],
             [
              0.4444444444444444,
              "#bd3786"
             ],
             [
              0.5555555555555556,
              "#d8576b"
             ],
             [
              0.6666666666666666,
              "#ed7953"
             ],
             [
              0.7777777777777778,
              "#fb9f3a"
             ],
             [
              0.8888888888888888,
              "#fdca26"
             ],
             [
              1,
              "#f0f921"
             ]
            ],
            "type": "histogram2dcontour"
           }
          ],
          "mesh3d": [
           {
            "colorbar": {
             "outlinewidth": 0,
             "ticks": ""
            },
            "type": "mesh3d"
           }
          ],
          "parcoords": [
           {
            "line": {
             "colorbar": {
              "outlinewidth": 0,
              "ticks": ""
             }
            },
            "type": "parcoords"
           }
          ],
          "pie": [
           {
            "automargin": true,
            "type": "pie"
           }
          ],
          "scatter": [
           {
            "fillpattern": {
             "fillmode": "overlay",
             "size": 10,
             "solidity": 0.2
            },
            "type": "scatter"
           }
          ],
          "scatter3d": [
           {
            "line": {
             "colorbar": {
              "outlinewidth": 0,
              "ticks": ""
             }
            },
            "marker": {
             "colorbar": {
              "outlinewidth": 0,
              "ticks": ""
             }
            },
            "type": "scatter3d"
           }
          ],
          "scattercarpet": [
           {
            "marker": {
             "colorbar": {
              "outlinewidth": 0,
              "ticks": ""
             }
            },
            "type": "scattercarpet"
           }
          ],
          "scattergeo": [
           {
            "marker": {
             "colorbar": {
              "outlinewidth": 0,
              "ticks": ""
             }
            },
            "type": "scattergeo"
           }
          ],
          "scattergl": [
           {
            "marker": {
             "colorbar": {
              "outlinewidth": 0,
              "ticks": ""
             }
            },
            "type": "scattergl"
           }
          ],
          "scattermapbox": [
           {
            "marker": {
             "colorbar": {
              "outlinewidth": 0,
              "ticks": ""
             }
            },
            "type": "scattermapbox"
           }
          ],
          "scatterpolar": [
           {
            "marker": {
             "colorbar": {
              "outlinewidth": 0,
              "ticks": ""
             }
            },
            "type": "scatterpolar"
           }
          ],
          "scatterpolargl": [
           {
            "marker": {
             "colorbar": {
              "outlinewidth": 0,
              "ticks": ""
             }
            },
            "type": "scatterpolargl"
           }
          ],
          "scatterternary": [
           {
            "marker": {
             "colorbar": {
              "outlinewidth": 0,
              "ticks": ""
             }
            },
            "type": "scatterternary"
           }
          ],
          "surface": [
           {
            "colorbar": {
             "outlinewidth": 0,
             "ticks": ""
            },
            "colorscale": [
             [
              0,
              "#0d0887"
             ],
             [
              0.1111111111111111,
              "#46039f"
             ],
             [
              0.2222222222222222,
              "#7201a8"
             ],
             [
              0.3333333333333333,
              "#9c179e"
             ],
             [
              0.4444444444444444,
              "#bd3786"
             ],
             [
              0.5555555555555556,
              "#d8576b"
             ],
             [
              0.6666666666666666,
              "#ed7953"
             ],
             [
              0.7777777777777778,
              "#fb9f3a"
             ],
             [
              0.8888888888888888,
              "#fdca26"
             ],
             [
              1,
              "#f0f921"
             ]
            ],
            "type": "surface"
           }
          ],
          "table": [
           {
            "cells": {
             "fill": {
              "color": "#EBF0F8"
             },
             "line": {
              "color": "white"
             }
            },
            "header": {
             "fill": {
              "color": "#C8D4E3"
             },
             "line": {
              "color": "white"
             }
            },
            "type": "table"
           }
          ]
         },
         "layout": {
          "annotationdefaults": {
           "arrowcolor": "#2a3f5f",
           "arrowhead": 0,
           "arrowwidth": 1
          },
          "autotypenumbers": "strict",
          "coloraxis": {
           "colorbar": {
            "outlinewidth": 0,
            "ticks": ""
           }
          },
          "colorscale": {
           "diverging": [
            [
             0,
             "#8e0152"
            ],
            [
             0.1,
             "#c51b7d"
            ],
            [
             0.2,
             "#de77ae"
            ],
            [
             0.3,
             "#f1b6da"
            ],
            [
             0.4,
             "#fde0ef"
            ],
            [
             0.5,
             "#f7f7f7"
            ],
            [
             0.6,
             "#e6f5d0"
            ],
            [
             0.7,
             "#b8e186"
            ],
            [
             0.8,
             "#7fbc41"
            ],
            [
             0.9,
             "#4d9221"
            ],
            [
             1,
             "#276419"
            ]
           ],
           "sequential": [
            [
             0,
             "#0d0887"
            ],
            [
             0.1111111111111111,
             "#46039f"
            ],
            [
             0.2222222222222222,
             "#7201a8"
            ],
            [
             0.3333333333333333,
             "#9c179e"
            ],
            [
             0.4444444444444444,
             "#bd3786"
            ],
            [
             0.5555555555555556,
             "#d8576b"
            ],
            [
             0.6666666666666666,
             "#ed7953"
            ],
            [
             0.7777777777777778,
             "#fb9f3a"
            ],
            [
             0.8888888888888888,
             "#fdca26"
            ],
            [
             1,
             "#f0f921"
            ]
           ],
           "sequentialminus": [
            [
             0,
             "#0d0887"
            ],
            [
             0.1111111111111111,
             "#46039f"
            ],
            [
             0.2222222222222222,
             "#7201a8"
            ],
            [
             0.3333333333333333,
             "#9c179e"
            ],
            [
             0.4444444444444444,
             "#bd3786"
            ],
            [
             0.5555555555555556,
             "#d8576b"
            ],
            [
             0.6666666666666666,
             "#ed7953"
            ],
            [
             0.7777777777777778,
             "#fb9f3a"
            ],
            [
             0.8888888888888888,
             "#fdca26"
            ],
            [
             1,
             "#f0f921"
            ]
           ]
          },
          "colorway": [
           "#636efa",
           "#EF553B",
           "#00cc96",
           "#ab63fa",
           "#FFA15A",
           "#19d3f3",
           "#FF6692",
           "#B6E880",
           "#FF97FF",
           "#FECB52"
          ],
          "font": {
           "color": "#2a3f5f"
          },
          "geo": {
           "bgcolor": "white",
           "lakecolor": "white",
           "landcolor": "#E5ECF6",
           "showlakes": true,
           "showland": true,
           "subunitcolor": "white"
          },
          "hoverlabel": {
           "align": "left"
          },
          "hovermode": "closest",
          "mapbox": {
           "style": "light"
          },
          "paper_bgcolor": "white",
          "plot_bgcolor": "#E5ECF6",
          "polar": {
           "angularaxis": {
            "gridcolor": "white",
            "linecolor": "white",
            "ticks": ""
           },
           "bgcolor": "#E5ECF6",
           "radialaxis": {
            "gridcolor": "white",
            "linecolor": "white",
            "ticks": ""
           }
          },
          "scene": {
           "xaxis": {
            "backgroundcolor": "#E5ECF6",
            "gridcolor": "white",
            "gridwidth": 2,
            "linecolor": "white",
            "showbackground": true,
            "ticks": "",
            "zerolinecolor": "white"
           },
           "yaxis": {
            "backgroundcolor": "#E5ECF6",
            "gridcolor": "white",
            "gridwidth": 2,
            "linecolor": "white",
            "showbackground": true,
            "ticks": "",
            "zerolinecolor": "white"
           },
           "zaxis": {
            "backgroundcolor": "#E5ECF6",
            "gridcolor": "white",
            "gridwidth": 2,
            "linecolor": "white",
            "showbackground": true,
            "ticks": "",
            "zerolinecolor": "white"
           }
          },
          "shapedefaults": {
           "line": {
            "color": "#2a3f5f"
           }
          },
          "ternary": {
           "aaxis": {
            "gridcolor": "white",
            "linecolor": "white",
            "ticks": ""
           },
           "baxis": {
            "gridcolor": "white",
            "linecolor": "white",
            "ticks": ""
           },
           "bgcolor": "#E5ECF6",
           "caxis": {
            "gridcolor": "white",
            "linecolor": "white",
            "ticks": ""
           }
          },
          "title": {
           "x": 0.05
          },
          "xaxis": {
           "automargin": true,
           "gridcolor": "white",
           "linecolor": "white",
           "ticks": "",
           "title": {
            "standoff": 15
           },
           "zerolinecolor": "white",
           "zerolinewidth": 2
          },
          "yaxis": {
           "automargin": true,
           "gridcolor": "white",
           "linecolor": "white",
           "ticks": "",
           "title": {
            "standoff": 15
           },
           "zerolinecolor": "white",
           "zerolinewidth": 2
          }
         }
        },
        "title": {
         "text": "2- Evolución Mensual de Actividad"
        },
        "xaxis": {
         "anchor": "y",
         "domain": [
          0,
          1
         ],
         "title": {
          "text": "mes"
         }
        },
        "yaxis": {
         "anchor": "x",
         "domain": [
          0,
          1
         ],
         "title": {
          "text": "numero_establecimiento"
         }
        }
       }
      }
     },
     "metadata": {},
     "output_type": "display_data"
    }
   ],
   "source": [
    "#VAMOS CON LAS GRAFICAS.\n",
    "import plotly.express as px\n",
    "\n",
    "# Crear columna año-mes\n",
    "df['mes'] = df['fecha_inicio_actividades'].dt.to_period('M')\n",
    "\n",
    "# Contar establecimientos por mes\n",
    "mensual = df.groupby('mes')['numero_establecimiento'].sum().reset_index()\n",
    "mensual['mes'] = mensual['mes'].dt.to_timestamp()  # Convertir a timestamp para Plotly\n",
    "\n",
    "fig = px.line(mensual, x='mes', y='numero_establecimiento', title='2- Evolución Mensual de Actividad')\n",
    "#Esto de aquí es para mostrar la gráfica.\n",
    "fig.show()\n",
    "\n",
    "#Esta es la Evolución Mensuale de Actividades a travez de los meses y los años.\n",
    "#Osea, la cantidad de negocios que han abierto operaciones en cada momento de esa \n",
    "# línea de tiempo."
   ]
  },
  {
   "cell_type": "code",
   "execution_count": 35,
   "id": "42033a8a",
   "metadata": {},
   "outputs": [
    {
     "data": {
      "application/vnd.plotly.v1+json": {
       "config": {
        "plotlyServerURL": "https://plot.ly"
       },
       "data": [
        {
         "domain": {
          "x": [
           0,
           1
          ],
          "y": [
           0,
           1
          ]
         },
         "hovertemplate": "clase_contribuyente=%{label}<br>numero_ruc=%{value}<extra></extra>",
         "labels": [
          "GEN",
          "RMP",
          "SIM"
         ],
         "legendgroup": "",
         "name": "",
         "showlegend": true,
         "type": "pie",
         "values": [
          983,
          9,
          8
         ]
        }
       ],
       "layout": {
        "legend": {
         "tracegroupgap": 0
        },
        "template": {
         "data": {
          "bar": [
           {
            "error_x": {
             "color": "#2a3f5f"
            },
            "error_y": {
             "color": "#2a3f5f"
            },
            "marker": {
             "line": {
              "color": "#E5ECF6",
              "width": 0.5
             },
             "pattern": {
              "fillmode": "overlay",
              "size": 10,
              "solidity": 0.2
             }
            },
            "type": "bar"
           }
          ],
          "barpolar": [
           {
            "marker": {
             "line": {
              "color": "#E5ECF6",
              "width": 0.5
             },
             "pattern": {
              "fillmode": "overlay",
              "size": 10,
              "solidity": 0.2
             }
            },
            "type": "barpolar"
           }
          ],
          "carpet": [
           {
            "aaxis": {
             "endlinecolor": "#2a3f5f",
             "gridcolor": "white",
             "linecolor": "white",
             "minorgridcolor": "white",
             "startlinecolor": "#2a3f5f"
            },
            "baxis": {
             "endlinecolor": "#2a3f5f",
             "gridcolor": "white",
             "linecolor": "white",
             "minorgridcolor": "white",
             "startlinecolor": "#2a3f5f"
            },
            "type": "carpet"
           }
          ],
          "choropleth": [
           {
            "colorbar": {
             "outlinewidth": 0,
             "ticks": ""
            },
            "type": "choropleth"
           }
          ],
          "contour": [
           {
            "colorbar": {
             "outlinewidth": 0,
             "ticks": ""
            },
            "colorscale": [
             [
              0,
              "#0d0887"
             ],
             [
              0.1111111111111111,
              "#46039f"
             ],
             [
              0.2222222222222222,
              "#7201a8"
             ],
             [
              0.3333333333333333,
              "#9c179e"
             ],
             [
              0.4444444444444444,
              "#bd3786"
             ],
             [
              0.5555555555555556,
              "#d8576b"
             ],
             [
              0.6666666666666666,
              "#ed7953"
             ],
             [
              0.7777777777777778,
              "#fb9f3a"
             ],
             [
              0.8888888888888888,
              "#fdca26"
             ],
             [
              1,
              "#f0f921"
             ]
            ],
            "type": "contour"
           }
          ],
          "contourcarpet": [
           {
            "colorbar": {
             "outlinewidth": 0,
             "ticks": ""
            },
            "type": "contourcarpet"
           }
          ],
          "heatmap": [
           {
            "colorbar": {
             "outlinewidth": 0,
             "ticks": ""
            },
            "colorscale": [
             [
              0,
              "#0d0887"
             ],
             [
              0.1111111111111111,
              "#46039f"
             ],
             [
              0.2222222222222222,
              "#7201a8"
             ],
             [
              0.3333333333333333,
              "#9c179e"
             ],
             [
              0.4444444444444444,
              "#bd3786"
             ],
             [
              0.5555555555555556,
              "#d8576b"
             ],
             [
              0.6666666666666666,
              "#ed7953"
             ],
             [
              0.7777777777777778,
              "#fb9f3a"
             ],
             [
              0.8888888888888888,
              "#fdca26"
             ],
             [
              1,
              "#f0f921"
             ]
            ],
            "type": "heatmap"
           }
          ],
          "heatmapgl": [
           {
            "colorbar": {
             "outlinewidth": 0,
             "ticks": ""
            },
            "colorscale": [
             [
              0,
              "#0d0887"
             ],
             [
              0.1111111111111111,
              "#46039f"
             ],
             [
              0.2222222222222222,
              "#7201a8"
             ],
             [
              0.3333333333333333,
              "#9c179e"
             ],
             [
              0.4444444444444444,
              "#bd3786"
             ],
             [
              0.5555555555555556,
              "#d8576b"
             ],
             [
              0.6666666666666666,
              "#ed7953"
             ],
             [
              0.7777777777777778,
              "#fb9f3a"
             ],
             [
              0.8888888888888888,
              "#fdca26"
             ],
             [
              1,
              "#f0f921"
             ]
            ],
            "type": "heatmapgl"
           }
          ],
          "histogram": [
           {
            "marker": {
             "pattern": {
              "fillmode": "overlay",
              "size": 10,
              "solidity": 0.2
             }
            },
            "type": "histogram"
           }
          ],
          "histogram2d": [
           {
            "colorbar": {
             "outlinewidth": 0,
             "ticks": ""
            },
            "colorscale": [
             [
              0,
              "#0d0887"
             ],
             [
              0.1111111111111111,
              "#46039f"
             ],
             [
              0.2222222222222222,
              "#7201a8"
             ],
             [
              0.3333333333333333,
              "#9c179e"
             ],
             [
              0.4444444444444444,
              "#bd3786"
             ],
             [
              0.5555555555555556,
              "#d8576b"
             ],
             [
              0.6666666666666666,
              "#ed7953"
             ],
             [
              0.7777777777777778,
              "#fb9f3a"
             ],
             [
              0.8888888888888888,
              "#fdca26"
             ],
             [
              1,
              "#f0f921"
             ]
            ],
            "type": "histogram2d"
           }
          ],
          "histogram2dcontour": [
           {
            "colorbar": {
             "outlinewidth": 0,
             "ticks": ""
            },
            "colorscale": [
             [
              0,
              "#0d0887"
             ],
             [
              0.1111111111111111,
              "#46039f"
             ],
             [
              0.2222222222222222,
              "#7201a8"
             ],
             [
              0.3333333333333333,
              "#9c179e"
             ],
             [
              0.4444444444444444,
              "#bd3786"
             ],
             [
              0.5555555555555556,
              "#d8576b"
             ],
             [
              0.6666666666666666,
              "#ed7953"
             ],
             [
              0.7777777777777778,
              "#fb9f3a"
             ],
             [
              0.8888888888888888,
              "#fdca26"
             ],
             [
              1,
              "#f0f921"
             ]
            ],
            "type": "histogram2dcontour"
           }
          ],
          "mesh3d": [
           {
            "colorbar": {
             "outlinewidth": 0,
             "ticks": ""
            },
            "type": "mesh3d"
           }
          ],
          "parcoords": [
           {
            "line": {
             "colorbar": {
              "outlinewidth": 0,
              "ticks": ""
             }
            },
            "type": "parcoords"
           }
          ],
          "pie": [
           {
            "automargin": true,
            "type": "pie"
           }
          ],
          "scatter": [
           {
            "fillpattern": {
             "fillmode": "overlay",
             "size": 10,
             "solidity": 0.2
            },
            "type": "scatter"
           }
          ],
          "scatter3d": [
           {
            "line": {
             "colorbar": {
              "outlinewidth": 0,
              "ticks": ""
             }
            },
            "marker": {
             "colorbar": {
              "outlinewidth": 0,
              "ticks": ""
             }
            },
            "type": "scatter3d"
           }
          ],
          "scattercarpet": [
           {
            "marker": {
             "colorbar": {
              "outlinewidth": 0,
              "ticks": ""
             }
            },
            "type": "scattercarpet"
           }
          ],
          "scattergeo": [
           {
            "marker": {
             "colorbar": {
              "outlinewidth": 0,
              "ticks": ""
             }
            },
            "type": "scattergeo"
           }
          ],
          "scattergl": [
           {
            "marker": {
             "colorbar": {
              "outlinewidth": 0,
              "ticks": ""
             }
            },
            "type": "scattergl"
           }
          ],
          "scattermapbox": [
           {
            "marker": {
             "colorbar": {
              "outlinewidth": 0,
              "ticks": ""
             }
            },
            "type": "scattermapbox"
           }
          ],
          "scatterpolar": [
           {
            "marker": {
             "colorbar": {
              "outlinewidth": 0,
              "ticks": ""
             }
            },
            "type": "scatterpolar"
           }
          ],
          "scatterpolargl": [
           {
            "marker": {
             "colorbar": {
              "outlinewidth": 0,
              "ticks": ""
             }
            },
            "type": "scatterpolargl"
           }
          ],
          "scatterternary": [
           {
            "marker": {
             "colorbar": {
              "outlinewidth": 0,
              "ticks": ""
             }
            },
            "type": "scatterternary"
           }
          ],
          "surface": [
           {
            "colorbar": {
             "outlinewidth": 0,
             "ticks": ""
            },
            "colorscale": [
             [
              0,
              "#0d0887"
             ],
             [
              0.1111111111111111,
              "#46039f"
             ],
             [
              0.2222222222222222,
              "#7201a8"
             ],
             [
              0.3333333333333333,
              "#9c179e"
             ],
             [
              0.4444444444444444,
              "#bd3786"
             ],
             [
              0.5555555555555556,
              "#d8576b"
             ],
             [
              0.6666666666666666,
              "#ed7953"
             ],
             [
              0.7777777777777778,
              "#fb9f3a"
             ],
             [
              0.8888888888888888,
              "#fdca26"
             ],
             [
              1,
              "#f0f921"
             ]
            ],
            "type": "surface"
           }
          ],
          "table": [
           {
            "cells": {
             "fill": {
              "color": "#EBF0F8"
             },
             "line": {
              "color": "white"
             }
            },
            "header": {
             "fill": {
              "color": "#C8D4E3"
             },
             "line": {
              "color": "white"
             }
            },
            "type": "table"
           }
          ]
         },
         "layout": {
          "annotationdefaults": {
           "arrowcolor": "#2a3f5f",
           "arrowhead": 0,
           "arrowwidth": 1
          },
          "autotypenumbers": "strict",
          "coloraxis": {
           "colorbar": {
            "outlinewidth": 0,
            "ticks": ""
           }
          },
          "colorscale": {
           "diverging": [
            [
             0,
             "#8e0152"
            ],
            [
             0.1,
             "#c51b7d"
            ],
            [
             0.2,
             "#de77ae"
            ],
            [
             0.3,
             "#f1b6da"
            ],
            [
             0.4,
             "#fde0ef"
            ],
            [
             0.5,
             "#f7f7f7"
            ],
            [
             0.6,
             "#e6f5d0"
            ],
            [
             0.7,
             "#b8e186"
            ],
            [
             0.8,
             "#7fbc41"
            ],
            [
             0.9,
             "#4d9221"
            ],
            [
             1,
             "#276419"
            ]
           ],
           "sequential": [
            [
             0,
             "#0d0887"
            ],
            [
             0.1111111111111111,
             "#46039f"
            ],
            [
             0.2222222222222222,
             "#7201a8"
            ],
            [
             0.3333333333333333,
             "#9c179e"
            ],
            [
             0.4444444444444444,
             "#bd3786"
            ],
            [
             0.5555555555555556,
             "#d8576b"
            ],
            [
             0.6666666666666666,
             "#ed7953"
            ],
            [
             0.7777777777777778,
             "#fb9f3a"
            ],
            [
             0.8888888888888888,
             "#fdca26"
            ],
            [
             1,
             "#f0f921"
            ]
           ],
           "sequentialminus": [
            [
             0,
             "#0d0887"
            ],
            [
             0.1111111111111111,
             "#46039f"
            ],
            [
             0.2222222222222222,
             "#7201a8"
            ],
            [
             0.3333333333333333,
             "#9c179e"
            ],
            [
             0.4444444444444444,
             "#bd3786"
            ],
            [
             0.5555555555555556,
             "#d8576b"
            ],
            [
             0.6666666666666666,
             "#ed7953"
            ],
            [
             0.7777777777777778,
             "#fb9f3a"
            ],
            [
             0.8888888888888888,
             "#fdca26"
            ],
            [
             1,
             "#f0f921"
            ]
           ]
          },
          "colorway": [
           "#636efa",
           "#EF553B",
           "#00cc96",
           "#ab63fa",
           "#FFA15A",
           "#19d3f3",
           "#FF6692",
           "#B6E880",
           "#FF97FF",
           "#FECB52"
          ],
          "font": {
           "color": "#2a3f5f"
          },
          "geo": {
           "bgcolor": "white",
           "lakecolor": "white",
           "landcolor": "#E5ECF6",
           "showlakes": true,
           "showland": true,
           "subunitcolor": "white"
          },
          "hoverlabel": {
           "align": "left"
          },
          "hovermode": "closest",
          "mapbox": {
           "style": "light"
          },
          "paper_bgcolor": "white",
          "plot_bgcolor": "#E5ECF6",
          "polar": {
           "angularaxis": {
            "gridcolor": "white",
            "linecolor": "white",
            "ticks": ""
           },
           "bgcolor": "#E5ECF6",
           "radialaxis": {
            "gridcolor": "white",
            "linecolor": "white",
            "ticks": ""
           }
          },
          "scene": {
           "xaxis": {
            "backgroundcolor": "#E5ECF6",
            "gridcolor": "white",
            "gridwidth": 2,
            "linecolor": "white",
            "showbackground": true,
            "ticks": "",
            "zerolinecolor": "white"
           },
           "yaxis": {
            "backgroundcolor": "#E5ECF6",
            "gridcolor": "white",
            "gridwidth": 2,
            "linecolor": "white",
            "showbackground": true,
            "ticks": "",
            "zerolinecolor": "white"
           },
           "zaxis": {
            "backgroundcolor": "#E5ECF6",
            "gridcolor": "white",
            "gridwidth": 2,
            "linecolor": "white",
            "showbackground": true,
            "ticks": "",
            "zerolinecolor": "white"
           }
          },
          "shapedefaults": {
           "line": {
            "color": "#2a3f5f"
           }
          },
          "ternary": {
           "aaxis": {
            "gridcolor": "white",
            "linecolor": "white",
            "ticks": ""
           },
           "baxis": {
            "gridcolor": "white",
            "linecolor": "white",
            "ticks": ""
           },
           "bgcolor": "#E5ECF6",
           "caxis": {
            "gridcolor": "white",
            "linecolor": "white",
            "ticks": ""
           }
          },
          "title": {
           "x": 0.05
          },
          "xaxis": {
           "automargin": true,
           "gridcolor": "white",
           "linecolor": "white",
           "ticks": "",
           "title": {
            "standoff": 15
           },
           "zerolinecolor": "white",
           "zerolinewidth": 2
          },
          "yaxis": {
           "automargin": true,
           "gridcolor": "white",
           "linecolor": "white",
           "ticks": "",
           "title": {
            "standoff": 15
           },
           "zerolinecolor": "white",
           "zerolinewidth": 2
          }
         }
        },
        "title": {
         "text": "3- Participación por Clase de Contribuyente"
        }
       }
      }
     },
     "metadata": {},
     "output_type": "display_data"
    }
   ],
   "source": [
    "\n",
    "import plotly.express as px\n",
    "\n",
    "#Esto de acá es a Participación por Clase de Contribuyente\n",
    "tipo = df.groupby('clase_contribuyente')['numero_ruc'].count().reset_index()\n",
    "\n",
    "fig = px.pie(tipo, names='clase_contribuyente', values='numero_ruc', title='3- Participación por Clase de Contribuyente')\n",
    "fig.show()\n",
    "\n",
    "#El documento nos estableció la existencia de 3 clases de contribuyentes.\n",
    "#El GEN, RMP y el SIM.\n",
    "#Lo que aquí estamos midiendo es la participación de cada clase a lo\n",
    "#largo de este tiempo."
   ]
  },
  {
   "cell_type": "code",
   "execution_count": null,
   "id": "0609ac33",
   "metadata": {},
   "outputs": [
    {
     "data": {
      "application/vnd.plotly.v1+json": {
       "config": {
        "plotlyServerURL": "https://plot.ly"
       },
       "data": [
        {
         "alignmentgroup": "True",
         "hovertemplate": "actividad_economica=%{x}<br>numero_establecimiento=%{y}<extra></extra>",
         "legendgroup": "",
         "marker": {
          "color": "#636efa",
          "pattern": {
           "shape": ""
          }
         },
         "name": "",
         "offsetgroup": "",
         "orientation": "v",
         "showlegend": false,
         "textposition": "auto",
         "type": "bar",
         "x": [
          "ACTIVIDADES DE ORGANIZACIONES NO AFILIADAS DIRECTAMENTE A UN PARTIDO POLÃTICO QUE PROMUEVEN UNA CAUSA O CUESTIÃN PÃBLICA MEDIANTE CAMPAÃAS DE EDUCACIÃN DEL PÃBLICO, INFLUENCIA POLÃTICA, RECAUDACIÃN DE FONDOS, ETCÃTERA; COMO INICIATIVAS CIUDADANAS Y MOVIMIENTOS DE PROTESTA; ACTIVIDADES DE MOVIMIENTOS AMBIENTALISTAS O ECOLOGISTA; ACTIVIDADES DE ORGANIZACIONES DE APOYO A SERVICIOS COMUNITARIOS Y EDUCATIVOS N.C.P.; ACTIVIDADES DE ORGANIZACIONES PARA LA PROTECCIÃN Y DEL ADELANTO DE GRUPOS ESPECIALES; POR EJEMPLO, GRUPOS ÃTNICOS Y MINORITARIOS Y ACTIVIDADES DE ASOCIACIONES CON FINES PATRIÃTICOS, INCLUIDAS ASOCIACIONES DE VETERANOS DE GUERRA.",
          "EDUCACIÃN DE TERCER NIVEL, DESTINADO A LA FORMACIÃN BÃSICA EN UNA DISCIPLINA O A LA CAPACITACIÃN PARA EL EJERCICIO DE UNA PROFESIÃN. CORRESPONDEN A ESTE NIVEL EL GRADO DE LICENCIADO Y LOS TÃTULOS PROFESIONALES UNIVERSITARIOS O POLITÃCNICOS, QUE SON EQUIVALENTES, INCLUIDO LAS ACTIVIDADES DE ESCUELAS DE ARTES INTERPRETATIVAS QUE IMPARTEN ENSEÃANZA SUPERIOR.",
          "PUBLICACIÃN DE LIBROS, FOLLETOS IMPRESOS, DICCIONARIOS, ENCICLOPEDIAS Y SIMILARES, ATLAS, MAPAS Y PLANOS. INCLUYE LA VENTA DE ESPACIOS PUBLICITARIOS.",
          "SERVICIOS DE ASESORAMIENTO EN ECONOMÃA DOMÃSTICA, DE ORIENTACIÃN MATRIMONIAL Y FAMILIAR, ASESORAMIENTO EN CUESTIONES CREDITICIAS Y DE DEUDA, ACTIVIDADES COMUNITARIAS Y VECINALES Y ACTIVIDADES DE REHABILITACIÃN Y HABILITACIÃN PROFESIONAL PARA PERSONAS DESEMPLEADAS, SIEMPRE QUE EL COMPONENTE DE EDUCACIÃN SEA LIMITADO.",
          "ADMINISTRACIÃN DE BIENES INMUEBLES A CAMBIO DE UNA RETRIBUCIÃN O POR CONTRATO.",
          "ACTIVIDADES DE GUARDERÃA O ATENCIÃN DIURNA DE NIÃOS, INCLUYENDO EL CUIDADO DIURNO DE NIÃOS CON DISCAPACIDAD.",
          "COMPRA - VENTA, ALQUILER Y EXPLOTACIÃN DE BIENES INMUEBLES PROPIOS O ARRENDADOS, COMO: EDIFICIOS DE APARTAMENTOS Y VIVIENDAS; EDIFICIOS NO RESIDENCIALES, INCLUSO SALAS DE EXPOSICIONES; INSTALACIONES PARA ALMACENAJE, CENTROS COMERCIALES Y TERRENOS; INCLUYE EL ALQUILER DE CASAS Y APARTAMENTOS AMUEBLADOS O SIN AMUEBLAR POR PERÃODOS LARGOS, EN GENERAL POR MESES O POR AÃOS.",
          "EDUCACIÃN PRIMARIA (DESARROLLA LAS CAPACIDADES, HABILIDADES, DESTREZAS Y COMPETENCIAS DE LAS NIÃAS, NIÃOS Y ADOLESCENTES, ESTÃ COMPUESTA POR SIETE AÃOS DE ESTUDIOS, COMPRENDE EL IMPARTIR FORMACIÃN ACADÃMICA Y OTRAS TAREAS RELACIONADAS A LOS ESTUDIANTES DE PRIMERO HASTA SÃPTIMO DE BÃSICA, QUE PROPORCIONAN UNA SÃLIDA EDUCACIÃN PARA LECTURA, ESCRITURA Y MATEMÃTICAS, ASÃ COMO UN NIVEL ELEMENTAL DE COMPRENSIÃN DE DISCIPLINAS COMO: HISTORIA, GEOGRAFÃA, CIENCIAS, ETCÃTERA; PUEDE SER PROVISTA EN SALONES DE CLASES O A TRAVÃS DE RADIO, TELEVISIÃN, INTERNET, CORRESPONDENCIA O EN EL HOGAR, INCLUYE LAS ACTIVIDADES DE ESCUELAS UNIDOCENTES).",
          "ACTIVIDADES DE LAS AGENCIAS DE VIAJES DEDICADAS PRINCIPALMENTE A VENDER SERVICIOS DE VIAJES, DE VIAJES ORGANIZADOS, DE TRANSPORTE Y DE ALOJAMIENTO, AL POR MAYOR O AL POR MENOR, AL PÃBLICO EN GENERAL Y A CLIENTES COMERCIALES.",
          "DEFENSA DE LOS INTERESES DE LOS SINDICATOS Y DE SUS AFILIADOS; ACTIVIDADES DE ASOCIACIONES CUYOS AFILIADOS SON EMPLEADOS INTERESADOS PRINCIPALMENTE EN DAR A CONOCER SUS OPINIONES SOBRE LA SITUACIÃN LABORAL Y SALARIAL Y EN TOMAR MEDIDAS CONCERTADAS POR CONDUCTO DE SU ORGANIZACIÃN; ACTIVIDADES DE SINDICATOS DE EMPRESAS, SINDICATOS CON FILIALES Y ORGANIZACIONES SINDICALES INTEGRADAS POR SINDICATOS AFILIADOS Y CONSTITUIDAS EN FUNCIÃN DEL OFICIO DE SUS MIEMBROS O EN FUNCIÃN DE CRITERIOS GEOGRÃFICOS, ESTRUCTURALES O DE OTRA ÃNDOLE."
         ],
         "xaxis": "x",
         "y": [
          50,
          35,
          31,
          28,
          26,
          24,
          24,
          23,
          21,
          21
         ],
         "yaxis": "y"
        }
       ],
       "layout": {
        "barmode": "relative",
        "legend": {
         "tracegroupgap": 0
        },
        "template": {
         "data": {
          "bar": [
           {
            "error_x": {
             "color": "#2a3f5f"
            },
            "error_y": {
             "color": "#2a3f5f"
            },
            "marker": {
             "line": {
              "color": "#E5ECF6",
              "width": 0.5
             },
             "pattern": {
              "fillmode": "overlay",
              "size": 10,
              "solidity": 0.2
             }
            },
            "type": "bar"
           }
          ],
          "barpolar": [
           {
            "marker": {
             "line": {
              "color": "#E5ECF6",
              "width": 0.5
             },
             "pattern": {
              "fillmode": "overlay",
              "size": 10,
              "solidity": 0.2
             }
            },
            "type": "barpolar"
           }
          ],
          "carpet": [
           {
            "aaxis": {
             "endlinecolor": "#2a3f5f",
             "gridcolor": "white",
             "linecolor": "white",
             "minorgridcolor": "white",
             "startlinecolor": "#2a3f5f"
            },
            "baxis": {
             "endlinecolor": "#2a3f5f",
             "gridcolor": "white",
             "linecolor": "white",
             "minorgridcolor": "white",
             "startlinecolor": "#2a3f5f"
            },
            "type": "carpet"
           }
          ],
          "choropleth": [
           {
            "colorbar": {
             "outlinewidth": 0,
             "ticks": ""
            },
            "type": "choropleth"
           }
          ],
          "contour": [
           {
            "colorbar": {
             "outlinewidth": 0,
             "ticks": ""
            },
            "colorscale": [
             [
              0,
              "#0d0887"
             ],
             [
              0.1111111111111111,
              "#46039f"
             ],
             [
              0.2222222222222222,
              "#7201a8"
             ],
             [
              0.3333333333333333,
              "#9c179e"
             ],
             [
              0.4444444444444444,
              "#bd3786"
             ],
             [
              0.5555555555555556,
              "#d8576b"
             ],
             [
              0.6666666666666666,
              "#ed7953"
             ],
             [
              0.7777777777777778,
              "#fb9f3a"
             ],
             [
              0.8888888888888888,
              "#fdca26"
             ],
             [
              1,
              "#f0f921"
             ]
            ],
            "type": "contour"
           }
          ],
          "contourcarpet": [
           {
            "colorbar": {
             "outlinewidth": 0,
             "ticks": ""
            },
            "type": "contourcarpet"
           }
          ],
          "heatmap": [
           {
            "colorbar": {
             "outlinewidth": 0,
             "ticks": ""
            },
            "colorscale": [
             [
              0,
              "#0d0887"
             ],
             [
              0.1111111111111111,
              "#46039f"
             ],
             [
              0.2222222222222222,
              "#7201a8"
             ],
             [
              0.3333333333333333,
              "#9c179e"
             ],
             [
              0.4444444444444444,
              "#bd3786"
             ],
             [
              0.5555555555555556,
              "#d8576b"
             ],
             [
              0.6666666666666666,
              "#ed7953"
             ],
             [
              0.7777777777777778,
              "#fb9f3a"
             ],
             [
              0.8888888888888888,
              "#fdca26"
             ],
             [
              1,
              "#f0f921"
             ]
            ],
            "type": "heatmap"
           }
          ],
          "heatmapgl": [
           {
            "colorbar": {
             "outlinewidth": 0,
             "ticks": ""
            },
            "colorscale": [
             [
              0,
              "#0d0887"
             ],
             [
              0.1111111111111111,
              "#46039f"
             ],
             [
              0.2222222222222222,
              "#7201a8"
             ],
             [
              0.3333333333333333,
              "#9c179e"
             ],
             [
              0.4444444444444444,
              "#bd3786"
             ],
             [
              0.5555555555555556,
              "#d8576b"
             ],
             [
              0.6666666666666666,
              "#ed7953"
             ],
             [
              0.7777777777777778,
              "#fb9f3a"
             ],
             [
              0.8888888888888888,
              "#fdca26"
             ],
             [
              1,
              "#f0f921"
             ]
            ],
            "type": "heatmapgl"
           }
          ],
          "histogram": [
           {
            "marker": {
             "pattern": {
              "fillmode": "overlay",
              "size": 10,
              "solidity": 0.2
             }
            },
            "type": "histogram"
           }
          ],
          "histogram2d": [
           {
            "colorbar": {
             "outlinewidth": 0,
             "ticks": ""
            },
            "colorscale": [
             [
              0,
              "#0d0887"
             ],
             [
              0.1111111111111111,
              "#46039f"
             ],
             [
              0.2222222222222222,
              "#7201a8"
             ],
             [
              0.3333333333333333,
              "#9c179e"
             ],
             [
              0.4444444444444444,
              "#bd3786"
             ],
             [
              0.5555555555555556,
              "#d8576b"
             ],
             [
              0.6666666666666666,
              "#ed7953"
             ],
             [
              0.7777777777777778,
              "#fb9f3a"
             ],
             [
              0.8888888888888888,
              "#fdca26"
             ],
             [
              1,
              "#f0f921"
             ]
            ],
            "type": "histogram2d"
           }
          ],
          "histogram2dcontour": [
           {
            "colorbar": {
             "outlinewidth": 0,
             "ticks": ""
            },
            "colorscale": [
             [
              0,
              "#0d0887"
             ],
             [
              0.1111111111111111,
              "#46039f"
             ],
             [
              0.2222222222222222,
              "#7201a8"
             ],
             [
              0.3333333333333333,
              "#9c179e"
             ],
             [
              0.4444444444444444,
              "#bd3786"
             ],
             [
              0.5555555555555556,
              "#d8576b"
             ],
             [
              0.6666666666666666,
              "#ed7953"
             ],
             [
              0.7777777777777778,
              "#fb9f3a"
             ],
             [
              0.8888888888888888,
              "#fdca26"
             ],
             [
              1,
              "#f0f921"
             ]
            ],
            "type": "histogram2dcontour"
           }
          ],
          "mesh3d": [
           {
            "colorbar": {
             "outlinewidth": 0,
             "ticks": ""
            },
            "type": "mesh3d"
           }
          ],
          "parcoords": [
           {
            "line": {
             "colorbar": {
              "outlinewidth": 0,
              "ticks": ""
             }
            },
            "type": "parcoords"
           }
          ],
          "pie": [
           {
            "automargin": true,
            "type": "pie"
           }
          ],
          "scatter": [
           {
            "fillpattern": {
             "fillmode": "overlay",
             "size": 10,
             "solidity": 0.2
            },
            "type": "scatter"
           }
          ],
          "scatter3d": [
           {
            "line": {
             "colorbar": {
              "outlinewidth": 0,
              "ticks": ""
             }
            },
            "marker": {
             "colorbar": {
              "outlinewidth": 0,
              "ticks": ""
             }
            },
            "type": "scatter3d"
           }
          ],
          "scattercarpet": [
           {
            "marker": {
             "colorbar": {
              "outlinewidth": 0,
              "ticks": ""
             }
            },
            "type": "scattercarpet"
           }
          ],
          "scattergeo": [
           {
            "marker": {
             "colorbar": {
              "outlinewidth": 0,
              "ticks": ""
             }
            },
            "type": "scattergeo"
           }
          ],
          "scattergl": [
           {
            "marker": {
             "colorbar": {
              "outlinewidth": 0,
              "ticks": ""
             }
            },
            "type": "scattergl"
           }
          ],
          "scattermapbox": [
           {
            "marker": {
             "colorbar": {
              "outlinewidth": 0,
              "ticks": ""
             }
            },
            "type": "scattermapbox"
           }
          ],
          "scatterpolar": [
           {
            "marker": {
             "colorbar": {
              "outlinewidth": 0,
              "ticks": ""
             }
            },
            "type": "scatterpolar"
           }
          ],
          "scatterpolargl": [
           {
            "marker": {
             "colorbar": {
              "outlinewidth": 0,
              "ticks": ""
             }
            },
            "type": "scatterpolargl"
           }
          ],
          "scatterternary": [
           {
            "marker": {
             "colorbar": {
              "outlinewidth": 0,
              "ticks": ""
             }
            },
            "type": "scatterternary"
           }
          ],
          "surface": [
           {
            "colorbar": {
             "outlinewidth": 0,
             "ticks": ""
            },
            "colorscale": [
             [
              0,
              "#0d0887"
             ],
             [
              0.1111111111111111,
              "#46039f"
             ],
             [
              0.2222222222222222,
              "#7201a8"
             ],
             [
              0.3333333333333333,
              "#9c179e"
             ],
             [
              0.4444444444444444,
              "#bd3786"
             ],
             [
              0.5555555555555556,
              "#d8576b"
             ],
             [
              0.6666666666666666,
              "#ed7953"
             ],
             [
              0.7777777777777778,
              "#fb9f3a"
             ],
             [
              0.8888888888888888,
              "#fdca26"
             ],
             [
              1,
              "#f0f921"
             ]
            ],
            "type": "surface"
           }
          ],
          "table": [
           {
            "cells": {
             "fill": {
              "color": "#EBF0F8"
             },
             "line": {
              "color": "white"
             }
            },
            "header": {
             "fill": {
              "color": "#C8D4E3"
             },
             "line": {
              "color": "white"
             }
            },
            "type": "table"
           }
          ]
         },
         "layout": {
          "annotationdefaults": {
           "arrowcolor": "#2a3f5f",
           "arrowhead": 0,
           "arrowwidth": 1
          },
          "autotypenumbers": "strict",
          "coloraxis": {
           "colorbar": {
            "outlinewidth": 0,
            "ticks": ""
           }
          },
          "colorscale": {
           "diverging": [
            [
             0,
             "#8e0152"
            ],
            [
             0.1,
             "#c51b7d"
            ],
            [
             0.2,
             "#de77ae"
            ],
            [
             0.3,
             "#f1b6da"
            ],
            [
             0.4,
             "#fde0ef"
            ],
            [
             0.5,
             "#f7f7f7"
            ],
            [
             0.6,
             "#e6f5d0"
            ],
            [
             0.7,
             "#b8e186"
            ],
            [
             0.8,
             "#7fbc41"
            ],
            [
             0.9,
             "#4d9221"
            ],
            [
             1,
             "#276419"
            ]
           ],
           "sequential": [
            [
             0,
             "#0d0887"
            ],
            [
             0.1111111111111111,
             "#46039f"
            ],
            [
             0.2222222222222222,
             "#7201a8"
            ],
            [
             0.3333333333333333,
             "#9c179e"
            ],
            [
             0.4444444444444444,
             "#bd3786"
            ],
            [
             0.5555555555555556,
             "#d8576b"
            ],
            [
             0.6666666666666666,
             "#ed7953"
            ],
            [
             0.7777777777777778,
             "#fb9f3a"
            ],
            [
             0.8888888888888888,
             "#fdca26"
            ],
            [
             1,
             "#f0f921"
            ]
           ],
           "sequentialminus": [
            [
             0,
             "#0d0887"
            ],
            [
             0.1111111111111111,
             "#46039f"
            ],
            [
             0.2222222222222222,
             "#7201a8"
            ],
            [
             0.3333333333333333,
             "#9c179e"
            ],
            [
             0.4444444444444444,
             "#bd3786"
            ],
            [
             0.5555555555555556,
             "#d8576b"
            ],
            [
             0.6666666666666666,
             "#ed7953"
            ],
            [
             0.7777777777777778,
             "#fb9f3a"
            ],
            [
             0.8888888888888888,
             "#fdca26"
            ],
            [
             1,
             "#f0f921"
            ]
           ]
          },
          "colorway": [
           "#636efa",
           "#EF553B",
           "#00cc96",
           "#ab63fa",
           "#FFA15A",
           "#19d3f3",
           "#FF6692",
           "#B6E880",
           "#FF97FF",
           "#FECB52"
          ],
          "font": {
           "color": "#2a3f5f"
          },
          "geo": {
           "bgcolor": "white",
           "lakecolor": "white",
           "landcolor": "#E5ECF6",
           "showlakes": true,
           "showland": true,
           "subunitcolor": "white"
          },
          "hoverlabel": {
           "align": "left"
          },
          "hovermode": "closest",
          "mapbox": {
           "style": "light"
          },
          "paper_bgcolor": "white",
          "plot_bgcolor": "#E5ECF6",
          "polar": {
           "angularaxis": {
            "gridcolor": "white",
            "linecolor": "white",
            "ticks": ""
           },
           "bgcolor": "#E5ECF6",
           "radialaxis": {
            "gridcolor": "white",
            "linecolor": "white",
            "ticks": ""
           }
          },
          "scene": {
           "xaxis": {
            "backgroundcolor": "#E5ECF6",
            "gridcolor": "white",
            "gridwidth": 2,
            "linecolor": "white",
            "showbackground": true,
            "ticks": "",
            "zerolinecolor": "white"
           },
           "yaxis": {
            "backgroundcolor": "#E5ECF6",
            "gridcolor": "white",
            "gridwidth": 2,
            "linecolor": "white",
            "showbackground": true,
            "ticks": "",
            "zerolinecolor": "white"
           },
           "zaxis": {
            "backgroundcolor": "#E5ECF6",
            "gridcolor": "white",
            "gridwidth": 2,
            "linecolor": "white",
            "showbackground": true,
            "ticks": "",
            "zerolinecolor": "white"
           }
          },
          "shapedefaults": {
           "line": {
            "color": "#2a3f5f"
           }
          },
          "ternary": {
           "aaxis": {
            "gridcolor": "white",
            "linecolor": "white",
            "ticks": ""
           },
           "baxis": {
            "gridcolor": "white",
            "linecolor": "white",
            "ticks": ""
           },
           "bgcolor": "#E5ECF6",
           "caxis": {
            "gridcolor": "white",
            "linecolor": "white",
            "ticks": ""
           }
          },
          "title": {
           "x": 0.05
          },
          "xaxis": {
           "automargin": true,
           "gridcolor": "white",
           "linecolor": "white",
           "ticks": "",
           "title": {
            "standoff": 15
           },
           "zerolinecolor": "white",
           "zerolinewidth": 2
          },
          "yaxis": {
           "automargin": true,
           "gridcolor": "white",
           "linecolor": "white",
           "ticks": "",
           "title": {
            "standoff": 15
           },
           "zerolinecolor": "white",
           "zerolinewidth": 2
          }
         }
        },
        "title": {
         "text": "4- Top 10 Sectores Económicos por Establecimientos"
        },
        "xaxis": {
         "anchor": "y",
         "domain": [
          0,
          1
         ],
         "title": {
          "text": "actividad_economica"
         }
        },
        "yaxis": {
         "anchor": "x",
         "domain": [
          0,
          1
         ],
         "title": {
          "text": "numero_establecimiento"
         }
        }
       }
      }
     },
     "metadata": {},
     "output_type": "display_data"
    }
   ],
   "source": [
    "#VAMOS CON LAS GRAFICAS.\n",
    "import plotly.express as px\n",
    "\n",
    "sectores = df.groupby('actividad_economica')['numero_establecimiento'].sum().nlargest(10).reset_index()\n",
    "\n",
    "fig = px.bar(sectores, x='actividad_economica', y='numero_establecimiento', \n",
    "             title='4- Top 10 Sectores Económicos por Establecimientos')\n",
    "fig.show()\n",
    "\n",
    "\n",
    "#Esto cde aquí representan los sectores en la que cada establecimiento\n",
    "#Inico actividades.\n",
    "\n",
    "#Un ejemplom hay 31 establecimientos que inicieron sus operaciones en el\n",
    "#sector de Publicacion de Libros, osea, editoriales.\n"
   ]
  },
  {
   "cell_type": "code",
   "execution_count": null,
   "id": "57409eb7",
   "metadata": {},
   "outputs": [
    {
     "data": {
      "application/vnd.plotly.v1+json": {
       "config": {
        "plotlyServerURL": "https://plot.ly"
       },
       "data": [
        {
         "hovertemplate": "clase_contribuyente=GEN<br>total_contribuyentes=%{x}<br>total_establecimientos=%{y}<extra></extra>",
         "legendgroup": "GEN",
         "marker": {
          "color": "#636efa",
          "symbol": "circle"
         },
         "mode": "markers",
         "name": "GEN",
         "orientation": "v",
         "showlegend": true,
         "type": "scatter",
         "x": [
          983
         ],
         "xaxis": "x",
         "y": [
          1106
         ],
         "yaxis": "y"
        },
        {
         "hovertemplate": "clase_contribuyente=RMP<br>total_contribuyentes=%{x}<br>total_establecimientos=%{y}<extra></extra>",
         "legendgroup": "RMP",
         "marker": {
          "color": "#EF553B",
          "symbol": "circle"
         },
         "mode": "markers",
         "name": "RMP",
         "orientation": "v",
         "showlegend": true,
         "type": "scatter",
         "x": [
          9
         ],
         "xaxis": "x",
         "y": [
          9
         ],
         "yaxis": "y"
        },
        {
         "hovertemplate": "clase_contribuyente=SIM<br>total_contribuyentes=%{x}<br>total_establecimientos=%{y}<extra></extra>",
         "legendgroup": "SIM",
         "marker": {
          "color": "#00cc96",
          "symbol": "circle"
         },
         "mode": "markers",
         "name": "SIM",
         "orientation": "v",
         "showlegend": true,
         "type": "scatter",
         "x": [
          8
         ],
         "xaxis": "x",
         "y": [
          8
         ],
         "yaxis": "y"
        }
       ],
       "layout": {
        "legend": {
         "title": {
          "text": "clase_contribuyente"
         },
         "tracegroupgap": 0
        },
        "template": {
         "data": {
          "bar": [
           {
            "error_x": {
             "color": "#2a3f5f"
            },
            "error_y": {
             "color": "#2a3f5f"
            },
            "marker": {
             "line": {
              "color": "#E5ECF6",
              "width": 0.5
             },
             "pattern": {
              "fillmode": "overlay",
              "size": 10,
              "solidity": 0.2
             }
            },
            "type": "bar"
           }
          ],
          "barpolar": [
           {
            "marker": {
             "line": {
              "color": "#E5ECF6",
              "width": 0.5
             },
             "pattern": {
              "fillmode": "overlay",
              "size": 10,
              "solidity": 0.2
             }
            },
            "type": "barpolar"
           }
          ],
          "carpet": [
           {
            "aaxis": {
             "endlinecolor": "#2a3f5f",
             "gridcolor": "white",
             "linecolor": "white",
             "minorgridcolor": "white",
             "startlinecolor": "#2a3f5f"
            },
            "baxis": {
             "endlinecolor": "#2a3f5f",
             "gridcolor": "white",
             "linecolor": "white",
             "minorgridcolor": "white",
             "startlinecolor": "#2a3f5f"
            },
            "type": "carpet"
           }
          ],
          "choropleth": [
           {
            "colorbar": {
             "outlinewidth": 0,
             "ticks": ""
            },
            "type": "choropleth"
           }
          ],
          "contour": [
           {
            "colorbar": {
             "outlinewidth": 0,
             "ticks": ""
            },
            "colorscale": [
             [
              0,
              "#0d0887"
             ],
             [
              0.1111111111111111,
              "#46039f"
             ],
             [
              0.2222222222222222,
              "#7201a8"
             ],
             [
              0.3333333333333333,
              "#9c179e"
             ],
             [
              0.4444444444444444,
              "#bd3786"
             ],
             [
              0.5555555555555556,
              "#d8576b"
             ],
             [
              0.6666666666666666,
              "#ed7953"
             ],
             [
              0.7777777777777778,
              "#fb9f3a"
             ],
             [
              0.8888888888888888,
              "#fdca26"
             ],
             [
              1,
              "#f0f921"
             ]
            ],
            "type": "contour"
           }
          ],
          "contourcarpet": [
           {
            "colorbar": {
             "outlinewidth": 0,
             "ticks": ""
            },
            "type": "contourcarpet"
           }
          ],
          "heatmap": [
           {
            "colorbar": {
             "outlinewidth": 0,
             "ticks": ""
            },
            "colorscale": [
             [
              0,
              "#0d0887"
             ],
             [
              0.1111111111111111,
              "#46039f"
             ],
             [
              0.2222222222222222,
              "#7201a8"
             ],
             [
              0.3333333333333333,
              "#9c179e"
             ],
             [
              0.4444444444444444,
              "#bd3786"
             ],
             [
              0.5555555555555556,
              "#d8576b"
             ],
             [
              0.6666666666666666,
              "#ed7953"
             ],
             [
              0.7777777777777778,
              "#fb9f3a"
             ],
             [
              0.8888888888888888,
              "#fdca26"
             ],
             [
              1,
              "#f0f921"
             ]
            ],
            "type": "heatmap"
           }
          ],
          "heatmapgl": [
           {
            "colorbar": {
             "outlinewidth": 0,
             "ticks": ""
            },
            "colorscale": [
             [
              0,
              "#0d0887"
             ],
             [
              0.1111111111111111,
              "#46039f"
             ],
             [
              0.2222222222222222,
              "#7201a8"
             ],
             [
              0.3333333333333333,
              "#9c179e"
             ],
             [
              0.4444444444444444,
              "#bd3786"
             ],
             [
              0.5555555555555556,
              "#d8576b"
             ],
             [
              0.6666666666666666,
              "#ed7953"
             ],
             [
              0.7777777777777778,
              "#fb9f3a"
             ],
             [
              0.8888888888888888,
              "#fdca26"
             ],
             [
              1,
              "#f0f921"
             ]
            ],
            "type": "heatmapgl"
           }
          ],
          "histogram": [
           {
            "marker": {
             "pattern": {
              "fillmode": "overlay",
              "size": 10,
              "solidity": 0.2
             }
            },
            "type": "histogram"
           }
          ],
          "histogram2d": [
           {
            "colorbar": {
             "outlinewidth": 0,
             "ticks": ""
            },
            "colorscale": [
             [
              0,
              "#0d0887"
             ],
             [
              0.1111111111111111,
              "#46039f"
             ],
             [
              0.2222222222222222,
              "#7201a8"
             ],
             [
              0.3333333333333333,
              "#9c179e"
             ],
             [
              0.4444444444444444,
              "#bd3786"
             ],
             [
              0.5555555555555556,
              "#d8576b"
             ],
             [
              0.6666666666666666,
              "#ed7953"
             ],
             [
              0.7777777777777778,
              "#fb9f3a"
             ],
             [
              0.8888888888888888,
              "#fdca26"
             ],
             [
              1,
              "#f0f921"
             ]
            ],
            "type": "histogram2d"
           }
          ],
          "histogram2dcontour": [
           {
            "colorbar": {
             "outlinewidth": 0,
             "ticks": ""
            },
            "colorscale": [
             [
              0,
              "#0d0887"
             ],
             [
              0.1111111111111111,
              "#46039f"
             ],
             [
              0.2222222222222222,
              "#7201a8"
             ],
             [
              0.3333333333333333,
              "#9c179e"
             ],
             [
              0.4444444444444444,
              "#bd3786"
             ],
             [
              0.5555555555555556,
              "#d8576b"
             ],
             [
              0.6666666666666666,
              "#ed7953"
             ],
             [
              0.7777777777777778,
              "#fb9f3a"
             ],
             [
              0.8888888888888888,
              "#fdca26"
             ],
             [
              1,
              "#f0f921"
             ]
            ],
            "type": "histogram2dcontour"
           }
          ],
          "mesh3d": [
           {
            "colorbar": {
             "outlinewidth": 0,
             "ticks": ""
            },
            "type": "mesh3d"
           }
          ],
          "parcoords": [
           {
            "line": {
             "colorbar": {
              "outlinewidth": 0,
              "ticks": ""
             }
            },
            "type": "parcoords"
           }
          ],
          "pie": [
           {
            "automargin": true,
            "type": "pie"
           }
          ],
          "scatter": [
           {
            "fillpattern": {
             "fillmode": "overlay",
             "size": 10,
             "solidity": 0.2
            },
            "type": "scatter"
           }
          ],
          "scatter3d": [
           {
            "line": {
             "colorbar": {
              "outlinewidth": 0,
              "ticks": ""
             }
            },
            "marker": {
             "colorbar": {
              "outlinewidth": 0,
              "ticks": ""
             }
            },
            "type": "scatter3d"
           }
          ],
          "scattercarpet": [
           {
            "marker": {
             "colorbar": {
              "outlinewidth": 0,
              "ticks": ""
             }
            },
            "type": "scattercarpet"
           }
          ],
          "scattergeo": [
           {
            "marker": {
             "colorbar": {
              "outlinewidth": 0,
              "ticks": ""
             }
            },
            "type": "scattergeo"
           }
          ],
          "scattergl": [
           {
            "marker": {
             "colorbar": {
              "outlinewidth": 0,
              "ticks": ""
             }
            },
            "type": "scattergl"
           }
          ],
          "scattermapbox": [
           {
            "marker": {
             "colorbar": {
              "outlinewidth": 0,
              "ticks": ""
             }
            },
            "type": "scattermapbox"
           }
          ],
          "scatterpolar": [
           {
            "marker": {
             "colorbar": {
              "outlinewidth": 0,
              "ticks": ""
             }
            },
            "type": "scatterpolar"
           }
          ],
          "scatterpolargl": [
           {
            "marker": {
             "colorbar": {
              "outlinewidth": 0,
              "ticks": ""
             }
            },
            "type": "scatterpolargl"
           }
          ],
          "scatterternary": [
           {
            "marker": {
             "colorbar": {
              "outlinewidth": 0,
              "ticks": ""
             }
            },
            "type": "scatterternary"
           }
          ],
          "surface": [
           {
            "colorbar": {
             "outlinewidth": 0,
             "ticks": ""
            },
            "colorscale": [
             [
              0,
              "#0d0887"
             ],
             [
              0.1111111111111111,
              "#46039f"
             ],
             [
              0.2222222222222222,
              "#7201a8"
             ],
             [
              0.3333333333333333,
              "#9c179e"
             ],
             [
              0.4444444444444444,
              "#bd3786"
             ],
             [
              0.5555555555555556,
              "#d8576b"
             ],
             [
              0.6666666666666666,
              "#ed7953"
             ],
             [
              0.7777777777777778,
              "#fb9f3a"
             ],
             [
              0.8888888888888888,
              "#fdca26"
             ],
             [
              1,
              "#f0f921"
             ]
            ],
            "type": "surface"
           }
          ],
          "table": [
           {
            "cells": {
             "fill": {
              "color": "#EBF0F8"
             },
             "line": {
              "color": "white"
             }
            },
            "header": {
             "fill": {
              "color": "#C8D4E3"
             },
             "line": {
              "color": "white"
             }
            },
            "type": "table"
           }
          ]
         },
         "layout": {
          "annotationdefaults": {
           "arrowcolor": "#2a3f5f",
           "arrowhead": 0,
           "arrowwidth": 1
          },
          "autotypenumbers": "strict",
          "coloraxis": {
           "colorbar": {
            "outlinewidth": 0,
            "ticks": ""
           }
          },
          "colorscale": {
           "diverging": [
            [
             0,
             "#8e0152"
            ],
            [
             0.1,
             "#c51b7d"
            ],
            [
             0.2,
             "#de77ae"
            ],
            [
             0.3,
             "#f1b6da"
            ],
            [
             0.4,
             "#fde0ef"
            ],
            [
             0.5,
             "#f7f7f7"
            ],
            [
             0.6,
             "#e6f5d0"
            ],
            [
             0.7,
             "#b8e186"
            ],
            [
             0.8,
             "#7fbc41"
            ],
            [
             0.9,
             "#4d9221"
            ],
            [
             1,
             "#276419"
            ]
           ],
           "sequential": [
            [
             0,
             "#0d0887"
            ],
            [
             0.1111111111111111,
             "#46039f"
            ],
            [
             0.2222222222222222,
             "#7201a8"
            ],
            [
             0.3333333333333333,
             "#9c179e"
            ],
            [
             0.4444444444444444,
             "#bd3786"
            ],
            [
             0.5555555555555556,
             "#d8576b"
            ],
            [
             0.6666666666666666,
             "#ed7953"
            ],
            [
             0.7777777777777778,
             "#fb9f3a"
            ],
            [
             0.8888888888888888,
             "#fdca26"
            ],
            [
             1,
             "#f0f921"
            ]
           ],
           "sequentialminus": [
            [
             0,
             "#0d0887"
            ],
            [
             0.1111111111111111,
             "#46039f"
            ],
            [
             0.2222222222222222,
             "#7201a8"
            ],
            [
             0.3333333333333333,
             "#9c179e"
            ],
            [
             0.4444444444444444,
             "#bd3786"
            ],
            [
             0.5555555555555556,
             "#d8576b"
            ],
            [
             0.6666666666666666,
             "#ed7953"
            ],
            [
             0.7777777777777778,
             "#fb9f3a"
            ],
            [
             0.8888888888888888,
             "#fdca26"
            ],
            [
             1,
             "#f0f921"
            ]
           ]
          },
          "colorway": [
           "#636efa",
           "#EF553B",
           "#00cc96",
           "#ab63fa",
           "#FFA15A",
           "#19d3f3",
           "#FF6692",
           "#B6E880",
           "#FF97FF",
           "#FECB52"
          ],
          "font": {
           "color": "#2a3f5f"
          },
          "geo": {
           "bgcolor": "white",
           "lakecolor": "white",
           "landcolor": "#E5ECF6",
           "showlakes": true,
           "showland": true,
           "subunitcolor": "white"
          },
          "hoverlabel": {
           "align": "left"
          },
          "hovermode": "closest",
          "mapbox": {
           "style": "light"
          },
          "paper_bgcolor": "white",
          "plot_bgcolor": "#E5ECF6",
          "polar": {
           "angularaxis": {
            "gridcolor": "white",
            "linecolor": "white",
            "ticks": ""
           },
           "bgcolor": "#E5ECF6",
           "radialaxis": {
            "gridcolor": "white",
            "linecolor": "white",
            "ticks": ""
           }
          },
          "scene": {
           "xaxis": {
            "backgroundcolor": "#E5ECF6",
            "gridcolor": "white",
            "gridwidth": 2,
            "linecolor": "white",
            "showbackground": true,
            "ticks": "",
            "zerolinecolor": "white"
           },
           "yaxis": {
            "backgroundcolor": "#E5ECF6",
            "gridcolor": "white",
            "gridwidth": 2,
            "linecolor": "white",
            "showbackground": true,
            "ticks": "",
            "zerolinecolor": "white"
           },
           "zaxis": {
            "backgroundcolor": "#E5ECF6",
            "gridcolor": "white",
            "gridwidth": 2,
            "linecolor": "white",
            "showbackground": true,
            "ticks": "",
            "zerolinecolor": "white"
           }
          },
          "shapedefaults": {
           "line": {
            "color": "#2a3f5f"
           }
          },
          "ternary": {
           "aaxis": {
            "gridcolor": "white",
            "linecolor": "white",
            "ticks": ""
           },
           "baxis": {
            "gridcolor": "white",
            "linecolor": "white",
            "ticks": ""
           },
           "bgcolor": "#E5ECF6",
           "caxis": {
            "gridcolor": "white",
            "linecolor": "white",
            "ticks": ""
           }
          },
          "title": {
           "x": 0.05
          },
          "xaxis": {
           "automargin": true,
           "gridcolor": "white",
           "linecolor": "white",
           "ticks": "",
           "title": {
            "standoff": 15
           },
           "zerolinecolor": "white",
           "zerolinewidth": 2
          },
          "yaxis": {
           "automargin": true,
           "gridcolor": "white",
           "linecolor": "white",
           "ticks": "",
           "title": {
            "standoff": 15
           },
           "zerolinecolor": "white",
           "zerolinewidth": 2
          }
         }
        },
        "title": {
         "text": "5- Contribuyentes vs Establecimientos por Clase de Contribuyente"
        },
        "xaxis": {
         "anchor": "y",
         "domain": [
          0,
          1
         ],
         "title": {
          "text": "total_contribuyentes"
         }
        },
        "yaxis": {
         "anchor": "x",
         "domain": [
          0,
          1
         ],
         "title": {
          "text": "total_establecimientos"
         }
        }
       }
      }
     },
     "metadata": {},
     "output_type": "display_data"
    }
   ],
   "source": [
    "\n",
    "#VAMOS CON LAS GRAFICAS.\n",
    "import plotly.express as px\n",
    "\n",
    "df_tipo = df.groupby('clase_contribuyente').agg(\n",
    "    total_contribuyentes=('numero_ruc','count'),\n",
    "    total_establecimientos=('numero_establecimiento','sum')\n",
    ").reset_index()\n",
    "\n",
    "fig = px.scatter(df_tipo, x='total_contribuyentes', y='total_establecimientos',\n",
    "                 color='clase_contribuyente',\n",
    "                 title='5- Contribuyentes vs Establecimientos por Clase de Contribuyente')\n",
    "fig.show()\n",
    "\n",
    "\n",
    "#Es otra forma de ver las actividades de los contribuyentes según su clase.\n",
    "#Como vemos aquí, la clase GEN es la que más resalta\n",
    "# Mientras que las clases RMP y la SIM casi no hicieron aplicaciones."
   ]
  }
 ],
 "metadata": {
  "kernelspec": {
   "display_name": "base",
   "language": "python",
   "name": "python3"
  },
  "language_info": {
   "codemirror_mode": {
    "name": "ipython",
    "version": 3
   },
   "file_extension": ".py",
   "mimetype": "text/x-python",
   "name": "python",
   "nbconvert_exporter": "python",
   "pygments_lexer": "ipython3",
   "version": "3.13.5"
  }
 },
 "nbformat": 4,
 "nbformat_minor": 5
}
